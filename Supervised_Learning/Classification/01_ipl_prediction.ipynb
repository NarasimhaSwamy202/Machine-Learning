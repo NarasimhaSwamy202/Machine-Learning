{
 "cells": [
  {
   "cell_type": "markdown",
   "id": "a5edc23a",
   "metadata": {},
   "source": [
    "link to ipl dataset: https://www.kaggle.com/datasets/maso0dahmed/ipl-first-inning-scoresf\n",
    "\n",
    "Description:\n",
    "This comprehensive dataset captures the essence of Indian Premier League (IPL) cricket matches by focusing on the first innings. It provides a rich source of information for predictive modeling and analysis, offering a nuanced understanding of the dynamics that unfold during these crucial phases of the game.\n",
    "\n",
    "Features:\n",
    "mid: Denotes the inning of the match, distinguishing between the first and second innings.\n",
    "\n",
    "date: Represents the date of the match, offering temporal context to the data.\n",
    "\n",
    "venue: Specifies the venue or ground where the match took place, influencing team strategies.\n",
    "\n",
    "bat_team: Indicates the team currently batting, a critical aspect of understanding team dynamics.\n",
    "\n",
    "bowl_team: Identifies the team currently bowling, shaping the match strategy.\n",
    "\n",
    "batsman: Highlights the batsman on strike, a pivotal player in scoring runs.\n",
    "\n",
    "bowler: Designates the bowler currently in action, a key figure in taking wickets.\n",
    "\n",
    "runs: Quantifies the total runs scored by the batting team until the current moment in the inning.\n",
    "\n",
    "wickets: Tracks the total number of wickets fallen until the current moment, affecting team performance.\n",
    "\n",
    "overs: Records the total number of overs bowled until the current moment, influencing the pace of the game.\n",
    "\n",
    "runs_last_5: Details the runs scored in the last 5 balls, offering insights into recent team performance.\n",
    "\n",
    "wickets_last_5: Specifies the wickets taken in the last 5 balls, indicating recent breakthroughs or challenges.\n",
    "\n",
    "striker: Represents the total runs made by the batsman on strike, a key contributor to the team's score.\n",
    "\n",
    "non-striker: Indicates the total runs made by the non-striker, providing a holistic view of team contributions.\n",
    "\n",
    "total: Serves as the target variable, representing the cumulative total runs aimed by the batting team for the inning.\n",
    "\n",
    "Use Case:\n",
    "This dataset is particularly valuable for tasks such as predictive modeling, where it can be employed to forecast the total runs a team is likely to score in the first inning based on a myriad of match-related parameters. Additionally, it enables in-depth statistical analysis to uncover patterns and factors influencing team performance in the dynamic landscape of IPL cricket matches.\n",
    "\n",
    "Note:\n",
    "\n",
    "The entries are organized chronologically, each capturing a specific moment in the inning.\n",
    "The target variable (total) encapsulates the cumulative total runs made by the batting team, serving as the focal point for predictive endeavors."
   ]
  },
  {
   "cell_type": "code",
   "execution_count": 297,
   "id": "34d072f1",
   "metadata": {},
   "outputs": [],
   "source": [
    "import pandas as pd \n",
    "import numpy as np\n",
    "import matplotlib.pyplot as plt\n",
    "import seaborn as sns\n",
    "import warnings \n",
    "warnings.filterwarnings('ignore')"
   ]
  },
  {
   "cell_type": "code",
   "execution_count": 298,
   "id": "9154ac2c",
   "metadata": {},
   "outputs": [
    {
     "data": {
      "text/html": [
       "<div>\n",
       "<style scoped>\n",
       "    .dataframe tbody tr th:only-of-type {\n",
       "        vertical-align: middle;\n",
       "    }\n",
       "\n",
       "    .dataframe tbody tr th {\n",
       "        vertical-align: top;\n",
       "    }\n",
       "\n",
       "    .dataframe thead th {\n",
       "        text-align: right;\n",
       "    }\n",
       "</style>\n",
       "<table border=\"1\" class=\"dataframe\">\n",
       "  <thead>\n",
       "    <tr style=\"text-align: right;\">\n",
       "      <th></th>\n",
       "      <th>mid</th>\n",
       "      <th>date</th>\n",
       "      <th>venue</th>\n",
       "      <th>bat_team</th>\n",
       "      <th>bowl_team</th>\n",
       "      <th>batsman</th>\n",
       "      <th>bowler</th>\n",
       "      <th>runs</th>\n",
       "      <th>wickets</th>\n",
       "      <th>overs</th>\n",
       "      <th>runs_last_5</th>\n",
       "      <th>wickets_last_5</th>\n",
       "      <th>striker</th>\n",
       "      <th>non-striker</th>\n",
       "      <th>total</th>\n",
       "    </tr>\n",
       "  </thead>\n",
       "  <tbody>\n",
       "    <tr>\n",
       "      <th>0</th>\n",
       "      <td>1</td>\n",
       "      <td>2008-04-18</td>\n",
       "      <td>M Chinnaswamy Stadium</td>\n",
       "      <td>Kolkata Knight Riders</td>\n",
       "      <td>Royal Challengers Bangalore</td>\n",
       "      <td>SC Ganguly</td>\n",
       "      <td>P Kumar</td>\n",
       "      <td>1</td>\n",
       "      <td>0</td>\n",
       "      <td>0.1</td>\n",
       "      <td>1</td>\n",
       "      <td>0</td>\n",
       "      <td>0</td>\n",
       "      <td>0</td>\n",
       "      <td>222</td>\n",
       "    </tr>\n",
       "    <tr>\n",
       "      <th>1</th>\n",
       "      <td>1</td>\n",
       "      <td>2008-04-18</td>\n",
       "      <td>M Chinnaswamy Stadium</td>\n",
       "      <td>Kolkata Knight Riders</td>\n",
       "      <td>Royal Challengers Bangalore</td>\n",
       "      <td>BB McCullum</td>\n",
       "      <td>P Kumar</td>\n",
       "      <td>1</td>\n",
       "      <td>0</td>\n",
       "      <td>0.2</td>\n",
       "      <td>1</td>\n",
       "      <td>0</td>\n",
       "      <td>0</td>\n",
       "      <td>0</td>\n",
       "      <td>222</td>\n",
       "    </tr>\n",
       "    <tr>\n",
       "      <th>2</th>\n",
       "      <td>1</td>\n",
       "      <td>2008-04-18</td>\n",
       "      <td>M Chinnaswamy Stadium</td>\n",
       "      <td>Kolkata Knight Riders</td>\n",
       "      <td>Royal Challengers Bangalore</td>\n",
       "      <td>BB McCullum</td>\n",
       "      <td>P Kumar</td>\n",
       "      <td>2</td>\n",
       "      <td>0</td>\n",
       "      <td>0.2</td>\n",
       "      <td>2</td>\n",
       "      <td>0</td>\n",
       "      <td>0</td>\n",
       "      <td>0</td>\n",
       "      <td>222</td>\n",
       "    </tr>\n",
       "    <tr>\n",
       "      <th>3</th>\n",
       "      <td>1</td>\n",
       "      <td>2008-04-18</td>\n",
       "      <td>M Chinnaswamy Stadium</td>\n",
       "      <td>Kolkata Knight Riders</td>\n",
       "      <td>Royal Challengers Bangalore</td>\n",
       "      <td>BB McCullum</td>\n",
       "      <td>P Kumar</td>\n",
       "      <td>2</td>\n",
       "      <td>0</td>\n",
       "      <td>0.3</td>\n",
       "      <td>2</td>\n",
       "      <td>0</td>\n",
       "      <td>0</td>\n",
       "      <td>0</td>\n",
       "      <td>222</td>\n",
       "    </tr>\n",
       "    <tr>\n",
       "      <th>4</th>\n",
       "      <td>1</td>\n",
       "      <td>2008-04-18</td>\n",
       "      <td>M Chinnaswamy Stadium</td>\n",
       "      <td>Kolkata Knight Riders</td>\n",
       "      <td>Royal Challengers Bangalore</td>\n",
       "      <td>BB McCullum</td>\n",
       "      <td>P Kumar</td>\n",
       "      <td>2</td>\n",
       "      <td>0</td>\n",
       "      <td>0.4</td>\n",
       "      <td>2</td>\n",
       "      <td>0</td>\n",
       "      <td>0</td>\n",
       "      <td>0</td>\n",
       "      <td>222</td>\n",
       "    </tr>\n",
       "  </tbody>\n",
       "</table>\n",
       "</div>"
      ],
      "text/plain": [
       "   mid        date                  venue               bat_team  \\\n",
       "0    1  2008-04-18  M Chinnaswamy Stadium  Kolkata Knight Riders   \n",
       "1    1  2008-04-18  M Chinnaswamy Stadium  Kolkata Knight Riders   \n",
       "2    1  2008-04-18  M Chinnaswamy Stadium  Kolkata Knight Riders   \n",
       "3    1  2008-04-18  M Chinnaswamy Stadium  Kolkata Knight Riders   \n",
       "4    1  2008-04-18  M Chinnaswamy Stadium  Kolkata Knight Riders   \n",
       "\n",
       "                     bowl_team      batsman   bowler  runs  wickets  overs  \\\n",
       "0  Royal Challengers Bangalore   SC Ganguly  P Kumar     1        0    0.1   \n",
       "1  Royal Challengers Bangalore  BB McCullum  P Kumar     1        0    0.2   \n",
       "2  Royal Challengers Bangalore  BB McCullum  P Kumar     2        0    0.2   \n",
       "3  Royal Challengers Bangalore  BB McCullum  P Kumar     2        0    0.3   \n",
       "4  Royal Challengers Bangalore  BB McCullum  P Kumar     2        0    0.4   \n",
       "\n",
       "   runs_last_5  wickets_last_5  striker  non-striker  total  \n",
       "0            1               0        0            0    222  \n",
       "1            1               0        0            0    222  \n",
       "2            2               0        0            0    222  \n",
       "3            2               0        0            0    222  \n",
       "4            2               0        0            0    222  "
      ]
     },
     "execution_count": 298,
     "metadata": {},
     "output_type": "execute_result"
    }
   ],
   "source": [
    "data = pd.read_csv(\"ipl.csv\")\n",
    "data.head()"
   ]
  },
  {
   "cell_type": "markdown",
   "id": "65f930b9",
   "metadata": {},
   "source": [
    "# Data Exploration"
   ]
  },
  {
   "cell_type": "code",
   "execution_count": 299,
   "id": "ce686e90",
   "metadata": {},
   "outputs": [
    {
     "data": {
      "text/plain": [
       "(['mid',\n",
       "  'date',\n",
       "  'venue',\n",
       "  'bat_team',\n",
       "  'bowl_team',\n",
       "  'batsman',\n",
       "  'bowler',\n",
       "  'runs',\n",
       "  'wickets',\n",
       "  'overs',\n",
       "  'runs_last_5',\n",
       "  'wickets_last_5',\n",
       "  'striker',\n",
       "  'non-striker',\n",
       "  'total'],\n",
       " 15)"
      ]
     },
     "execution_count": 299,
     "metadata": {},
     "output_type": "execute_result"
    }
   ],
   "source": [
    "iplcolumn = list(data.columns)\n",
    "iplcolumn,len(iplcolumn)"
   ]
  },
  {
   "cell_type": "code",
   "execution_count": 300,
   "id": "4cce38a8",
   "metadata": {},
   "outputs": [
    {
     "name": "stdout",
     "output_type": "stream",
     "text": [
      "mid\n",
      "309    132\n",
      "32     131\n",
      "115    131\n",
      "106    131\n",
      "299    131\n",
      "      ... \n",
      "403     91\n",
      "241     74\n",
      "479     65\n",
      "495     63\n",
      "384     50\n",
      "Name: count, Length: 617, dtype: int64\n",
      "date\n",
      "2010-03-25    257\n",
      "2011-04-22    257\n",
      "2012-05-20    256\n",
      "2015-04-25    255\n",
      "2014-05-14    254\n",
      "             ... \n",
      "2014-05-02    103\n",
      "2008-05-07    103\n",
      "2008-05-16     98\n",
      "2012-04-05     74\n",
      "2015-05-13     63\n",
      "Name: count, Length: 442, dtype: int64\n",
      "venue\n",
      "M Chinnaswamy Stadium                                   7443\n",
      "Feroz Shah Kotla                                        7068\n",
      "Eden Gardens                                            7049\n",
      "Wankhede Stadium                                        7048\n",
      "MA Chidambaram Stadium, Chepauk                         5972\n",
      "Rajiv Gandhi International Stadium, Uppal               5827\n",
      "Punjab Cricket Association Stadium, Mohali              4247\n",
      "Sawai Mansingh Stadium                                  4110\n",
      "Dr DY Patil Sports Academy                              2088\n",
      "Subrata Roy Sahara Stadium                              2086\n",
      "Maharashtra Cricket Association Stadium                 1843\n",
      "Kingsmead                                               1731\n",
      "Sardar Patel Stadium, Motera                            1484\n",
      "Brabourne Stadium                                       1380\n",
      "SuperSport Park                                         1377\n",
      "Punjab Cricket Association IS Bindra Stadium, Mohali    1342\n",
      "Saurashtra Cricket Association Stadium                  1229\n",
      "Himachal Pradesh Cricket Association Stadium            1115\n",
      "Dr. Y.S. Rajasekhara Reddy ACA-VDCA Cricket Stadium     1113\n",
      "New Wanderers Stadium                                    995\n",
      "St George's Park                                         870\n",
      "Dubai International Cricket Stadium                      868\n",
      "Barabati Stadium                                         856\n",
      "JSCA International Stadium Complex                       837\n",
      "Sheikh Zayed Stadium                                     836\n",
      "Sharjah Cricket Stadium                                  744\n",
      "Shaheed Veer Narayan Singh International Stadium         742\n",
      "Newlands                                                 737\n",
      "Holkar Cricket Stadium                                   617\n",
      "Nehru Stadium                                            499\n",
      "Green Park                                               492\n",
      "Buffalo Park                                             380\n",
      "Vidarbha Cricket Association Stadium, Jamtha             370\n",
      "De Beers Diamond Oval                                    368\n",
      "OUTsurance Oval                                          251\n",
      "Name: count, dtype: int64\n",
      "bat_team\n",
      "Mumbai Indians                 10213\n",
      "Kings XI Punjab                 9219\n",
      "Chennai Super Kings             9142\n",
      "Royal Challengers Bangalore     8331\n",
      "Kolkata Knight Riders           8033\n",
      "Delhi Daredevils                7152\n",
      "Rajasthan Royals                6643\n",
      "Deccan Chargers                 5280\n",
      "Sunrisers Hyderabad             5216\n",
      "Pune Warriors                   2448\n",
      "Gujarat Lions                   1726\n",
      "Rising Pune Supergiant           994\n",
      "Kochi Tuskers Kerala             876\n",
      "Rising Pune Supergiants          741\n",
      "Name: count, dtype: int64\n",
      "bowl_team\n",
      "Delhi Daredevils               10245\n",
      "Royal Challengers Bangalore     9661\n",
      "Mumbai Indians                  9271\n",
      "Kolkata Knight Riders           9211\n",
      "Kings XI Punjab                 8405\n",
      "Rajasthan Royals                7773\n",
      "Chennai Super Kings             6497\n",
      "Deccan Chargers                 3984\n",
      "Sunrisers Hyderabad             3589\n",
      "Pune Warriors                   3083\n",
      "Gujarat Lions                   1970\n",
      "Rising Pune Supergiant           962\n",
      "Kochi Tuskers Kerala             736\n",
      "Rising Pune Supergiants          627\n",
      "Name: count, dtype: int64\n",
      "batsman\n",
      "SK Raina          1921\n",
      "V Kohli           1825\n",
      "S Dhawan          1730\n",
      "RG Sharma         1726\n",
      "MS Dhoni          1584\n",
      "                  ... \n",
      "T Henderson          1\n",
      "NJ Rimmington        1\n",
      "LH Ferguson          1\n",
      "P Parameswaran       1\n",
      "V Pratap Singh       1\n",
      "Name: count, Length: 411, dtype: int64\n",
      "bowler\n",
      "Harbhajan Singh    1404\n",
      "PP Chawla          1399\n",
      "P Kumar            1386\n",
      "SL Malinga         1333\n",
      "UT Yadav           1304\n",
      "                   ... \n",
      "DB Ravi Teja          6\n",
      "KS Williamson         6\n",
      "CK Kapugedera         6\n",
      "P Prasanth            6\n",
      "SA Yadav              6\n",
      "Name: count, Length: 329, dtype: int64\n",
      "runs\n",
      "1      895\n",
      "0      808\n",
      "5      697\n",
      "2      649\n",
      "4      643\n",
      "      ... \n",
      "259      1\n",
      "253      1\n",
      "245      1\n",
      "239      1\n",
      "240      1\n",
      "Name: count, Length: 252, dtype: int64\n",
      "wickets\n",
      "1     14900\n",
      "0     14840\n",
      "2     13927\n",
      "3     11568\n",
      "4      9124\n",
      "5      5208\n",
      "6      3334\n",
      "7      1784\n",
      "8       856\n",
      "9       426\n",
      "10       47\n",
      "Name: count, dtype: int64\n",
      "overs\n",
      "0.1     655\n",
      "0.4     652\n",
      "1.1     650\n",
      "3.5     649\n",
      "2.3     649\n",
      "       ... \n",
      "8.0      17\n",
      "13.0     15\n",
      "12.0     14\n",
      "11.0     14\n",
      "10.0     11\n",
      "Name: count, Length: 140, dtype: int64\n",
      "runs_last_5\n",
      "34     2408\n",
      "33     2328\n",
      "35     2317\n",
      "36     2289\n",
      "32     2281\n",
      "       ... \n",
      "95        1\n",
      "100       1\n",
      "104       1\n",
      "109       1\n",
      "113       1\n",
      "Name: count, Length: 102, dtype: int64\n",
      "wickets_last_5\n",
      "1    27238\n",
      "0    24918\n",
      "2    16102\n",
      "3     5802\n",
      "4     1534\n",
      "5      350\n",
      "6       65\n",
      "7        5\n",
      "Name: count, dtype: int64\n",
      "striker\n",
      "4      2266\n",
      "1      2188\n",
      "5      2087\n",
      "6      1993\n",
      "10     1981\n",
      "       ... \n",
      "173       1\n",
      "148       1\n",
      "132       1\n",
      "152       1\n",
      "158       1\n",
      "Name: count, Length: 155, dtype: int64\n",
      "non-striker\n",
      "0      12246\n",
      "1       9642\n",
      "2       6210\n",
      "3       4174\n",
      "4       3994\n",
      "       ...  \n",
      "78         1\n",
      "87         1\n",
      "93         1\n",
      "97         1\n",
      "103        1\n",
      "Name: count, Length: 88, dtype: int64\n",
      "total\n",
      "165    1746\n",
      "178    1505\n",
      "183    1495\n",
      "163    1485\n",
      "168    1485\n",
      "       ... \n",
      "98      110\n",
      "103     103\n",
      "73       98\n",
      "81       96\n",
      "70       91\n",
      "Name: count, Length: 138, dtype: int64\n"
     ]
    }
   ],
   "source": [
    "for col_vc in iplcolumn:\n",
    "    print(data[col_vc].value_counts())"
   ]
  },
  {
   "cell_type": "code",
   "execution_count": 301,
   "id": "1f6e99be",
   "metadata": {},
   "outputs": [
    {
     "name": "stdout",
     "output_type": "stream",
     "text": [
      "<class 'pandas.core.frame.DataFrame'>\n",
      "RangeIndex: 76014 entries, 0 to 76013\n",
      "Data columns (total 15 columns):\n",
      " #   Column          Non-Null Count  Dtype  \n",
      "---  ------          --------------  -----  \n",
      " 0   mid             76014 non-null  int64  \n",
      " 1   date            76014 non-null  object \n",
      " 2   venue           76014 non-null  object \n",
      " 3   bat_team        76014 non-null  object \n",
      " 4   bowl_team       76014 non-null  object \n",
      " 5   batsman         76014 non-null  object \n",
      " 6   bowler          76014 non-null  object \n",
      " 7   runs            76014 non-null  int64  \n",
      " 8   wickets         76014 non-null  int64  \n",
      " 9   overs           76014 non-null  float64\n",
      " 10  runs_last_5     76014 non-null  int64  \n",
      " 11  wickets_last_5  76014 non-null  int64  \n",
      " 12  striker         76014 non-null  int64  \n",
      " 13  non-striker     76014 non-null  int64  \n",
      " 14  total           76014 non-null  int64  \n",
      "dtypes: float64(1), int64(8), object(6)\n",
      "memory usage: 8.7+ MB\n"
     ]
    }
   ],
   "source": [
    "data.info()"
   ]
  },
  {
   "cell_type": "code",
   "execution_count": 302,
   "id": "02040b7a",
   "metadata": {},
   "outputs": [
    {
     "data": {
      "text/plain": [
       "(76014, 15)"
      ]
     },
     "execution_count": 302,
     "metadata": {},
     "output_type": "execute_result"
    }
   ],
   "source": [
    "data.shape"
   ]
  },
  {
   "cell_type": "code",
   "execution_count": 303,
   "id": "ecbdfff9",
   "metadata": {},
   "outputs": [
    {
     "data": {
      "text/html": [
       "<div>\n",
       "<style scoped>\n",
       "    .dataframe tbody tr th:only-of-type {\n",
       "        vertical-align: middle;\n",
       "    }\n",
       "\n",
       "    .dataframe tbody tr th {\n",
       "        vertical-align: top;\n",
       "    }\n",
       "\n",
       "    .dataframe thead th {\n",
       "        text-align: right;\n",
       "    }\n",
       "</style>\n",
       "<table border=\"1\" class=\"dataframe\">\n",
       "  <thead>\n",
       "    <tr style=\"text-align: right;\">\n",
       "      <th></th>\n",
       "      <th>count</th>\n",
       "      <th>mean</th>\n",
       "      <th>std</th>\n",
       "      <th>min</th>\n",
       "      <th>25%</th>\n",
       "      <th>50%</th>\n",
       "      <th>75%</th>\n",
       "      <th>max</th>\n",
       "    </tr>\n",
       "  </thead>\n",
       "  <tbody>\n",
       "    <tr>\n",
       "      <th>mid</th>\n",
       "      <td>76014.0</td>\n",
       "      <td>308.627740</td>\n",
       "      <td>178.156878</td>\n",
       "      <td>1.0</td>\n",
       "      <td>154.0</td>\n",
       "      <td>308.0</td>\n",
       "      <td>463.0</td>\n",
       "      <td>617.0</td>\n",
       "    </tr>\n",
       "    <tr>\n",
       "      <th>runs</th>\n",
       "      <td>76014.0</td>\n",
       "      <td>74.889349</td>\n",
       "      <td>48.823327</td>\n",
       "      <td>0.0</td>\n",
       "      <td>34.0</td>\n",
       "      <td>70.0</td>\n",
       "      <td>111.0</td>\n",
       "      <td>263.0</td>\n",
       "    </tr>\n",
       "    <tr>\n",
       "      <th>wickets</th>\n",
       "      <td>76014.0</td>\n",
       "      <td>2.415844</td>\n",
       "      <td>2.015207</td>\n",
       "      <td>0.0</td>\n",
       "      <td>1.0</td>\n",
       "      <td>2.0</td>\n",
       "      <td>4.0</td>\n",
       "      <td>10.0</td>\n",
       "    </tr>\n",
       "    <tr>\n",
       "      <th>overs</th>\n",
       "      <td>76014.0</td>\n",
       "      <td>9.783068</td>\n",
       "      <td>5.772587</td>\n",
       "      <td>0.0</td>\n",
       "      <td>4.6</td>\n",
       "      <td>9.6</td>\n",
       "      <td>14.6</td>\n",
       "      <td>19.6</td>\n",
       "    </tr>\n",
       "    <tr>\n",
       "      <th>runs_last_5</th>\n",
       "      <td>76014.0</td>\n",
       "      <td>33.216434</td>\n",
       "      <td>14.914174</td>\n",
       "      <td>0.0</td>\n",
       "      <td>24.0</td>\n",
       "      <td>34.0</td>\n",
       "      <td>43.0</td>\n",
       "      <td>113.0</td>\n",
       "    </tr>\n",
       "    <tr>\n",
       "      <th>wickets_last_5</th>\n",
       "      <td>76014.0</td>\n",
       "      <td>1.120307</td>\n",
       "      <td>1.053343</td>\n",
       "      <td>0.0</td>\n",
       "      <td>0.0</td>\n",
       "      <td>1.0</td>\n",
       "      <td>2.0</td>\n",
       "      <td>7.0</td>\n",
       "    </tr>\n",
       "    <tr>\n",
       "      <th>striker</th>\n",
       "      <td>76014.0</td>\n",
       "      <td>24.962283</td>\n",
       "      <td>20.079752</td>\n",
       "      <td>0.0</td>\n",
       "      <td>10.0</td>\n",
       "      <td>20.0</td>\n",
       "      <td>35.0</td>\n",
       "      <td>175.0</td>\n",
       "    </tr>\n",
       "    <tr>\n",
       "      <th>non-striker</th>\n",
       "      <td>76014.0</td>\n",
       "      <td>8.869287</td>\n",
       "      <td>10.795742</td>\n",
       "      <td>0.0</td>\n",
       "      <td>1.0</td>\n",
       "      <td>5.0</td>\n",
       "      <td>13.0</td>\n",
       "      <td>109.0</td>\n",
       "    </tr>\n",
       "    <tr>\n",
       "      <th>total</th>\n",
       "      <td>76014.0</td>\n",
       "      <td>160.901452</td>\n",
       "      <td>29.246231</td>\n",
       "      <td>67.0</td>\n",
       "      <td>142.0</td>\n",
       "      <td>162.0</td>\n",
       "      <td>181.0</td>\n",
       "      <td>263.0</td>\n",
       "    </tr>\n",
       "  </tbody>\n",
       "</table>\n",
       "</div>"
      ],
      "text/plain": [
       "                  count        mean         std   min    25%    50%    75%  \\\n",
       "mid             76014.0  308.627740  178.156878   1.0  154.0  308.0  463.0   \n",
       "runs            76014.0   74.889349   48.823327   0.0   34.0   70.0  111.0   \n",
       "wickets         76014.0    2.415844    2.015207   0.0    1.0    2.0    4.0   \n",
       "overs           76014.0    9.783068    5.772587   0.0    4.6    9.6   14.6   \n",
       "runs_last_5     76014.0   33.216434   14.914174   0.0   24.0   34.0   43.0   \n",
       "wickets_last_5  76014.0    1.120307    1.053343   0.0    0.0    1.0    2.0   \n",
       "striker         76014.0   24.962283   20.079752   0.0   10.0   20.0   35.0   \n",
       "non-striker     76014.0    8.869287   10.795742   0.0    1.0    5.0   13.0   \n",
       "total           76014.0  160.901452   29.246231  67.0  142.0  162.0  181.0   \n",
       "\n",
       "                  max  \n",
       "mid             617.0  \n",
       "runs            263.0  \n",
       "wickets          10.0  \n",
       "overs            19.6  \n",
       "runs_last_5     113.0  \n",
       "wickets_last_5    7.0  \n",
       "striker         175.0  \n",
       "non-striker     109.0  \n",
       "total           263.0  "
      ]
     },
     "execution_count": 303,
     "metadata": {},
     "output_type": "execute_result"
    }
   ],
   "source": [
    "data.describe().T"
   ]
  },
  {
   "cell_type": "code",
   "execution_count": 304,
   "id": "5a47af18",
   "metadata": {},
   "outputs": [
    {
     "data": {
      "text/html": [
       "<div>\n",
       "<style scoped>\n",
       "    .dataframe tbody tr th:only-of-type {\n",
       "        vertical-align: middle;\n",
       "    }\n",
       "\n",
       "    .dataframe tbody tr th {\n",
       "        vertical-align: top;\n",
       "    }\n",
       "\n",
       "    .dataframe thead th {\n",
       "        text-align: right;\n",
       "    }\n",
       "</style>\n",
       "<table border=\"1\" class=\"dataframe\">\n",
       "  <thead>\n",
       "    <tr style=\"text-align: right;\">\n",
       "      <th></th>\n",
       "      <th>count</th>\n",
       "      <th>unique</th>\n",
       "      <th>top</th>\n",
       "      <th>freq</th>\n",
       "    </tr>\n",
       "  </thead>\n",
       "  <tbody>\n",
       "    <tr>\n",
       "      <th>date</th>\n",
       "      <td>76014</td>\n",
       "      <td>442</td>\n",
       "      <td>2010-03-25</td>\n",
       "      <td>257</td>\n",
       "    </tr>\n",
       "    <tr>\n",
       "      <th>venue</th>\n",
       "      <td>76014</td>\n",
       "      <td>35</td>\n",
       "      <td>M Chinnaswamy Stadium</td>\n",
       "      <td>7443</td>\n",
       "    </tr>\n",
       "    <tr>\n",
       "      <th>bat_team</th>\n",
       "      <td>76014</td>\n",
       "      <td>14</td>\n",
       "      <td>Mumbai Indians</td>\n",
       "      <td>10213</td>\n",
       "    </tr>\n",
       "    <tr>\n",
       "      <th>bowl_team</th>\n",
       "      <td>76014</td>\n",
       "      <td>14</td>\n",
       "      <td>Delhi Daredevils</td>\n",
       "      <td>10245</td>\n",
       "    </tr>\n",
       "    <tr>\n",
       "      <th>batsman</th>\n",
       "      <td>76014</td>\n",
       "      <td>411</td>\n",
       "      <td>SK Raina</td>\n",
       "      <td>1921</td>\n",
       "    </tr>\n",
       "    <tr>\n",
       "      <th>bowler</th>\n",
       "      <td>76014</td>\n",
       "      <td>329</td>\n",
       "      <td>Harbhajan Singh</td>\n",
       "      <td>1404</td>\n",
       "    </tr>\n",
       "  </tbody>\n",
       "</table>\n",
       "</div>"
      ],
      "text/plain": [
       "           count unique                    top   freq\n",
       "date       76014    442             2010-03-25    257\n",
       "venue      76014     35  M Chinnaswamy Stadium   7443\n",
       "bat_team   76014     14         Mumbai Indians  10213\n",
       "bowl_team  76014     14       Delhi Daredevils  10245\n",
       "batsman    76014    411               SK Raina   1921\n",
       "bowler     76014    329        Harbhajan Singh   1404"
      ]
     },
     "execution_count": 304,
     "metadata": {},
     "output_type": "execute_result"
    }
   ],
   "source": [
    "data.describe(include=\"object\").T"
   ]
  },
  {
   "cell_type": "code",
   "execution_count": 305,
   "id": "7c230a4b",
   "metadata": {},
   "outputs": [],
   "source": [
    "data = data.drop([\"date\"],axis=1)"
   ]
  },
  {
   "cell_type": "code",
   "execution_count": 306,
   "id": "45813408",
   "metadata": {},
   "outputs": [],
   "source": [
    "data_num = data.select_dtypes([\"int\",\"float\"])\n",
    "data_obj = data.select_dtypes([\"object\"])\n"
   ]
  },
  {
   "cell_type": "code",
   "execution_count": 307,
   "id": "c38c2de7",
   "metadata": {},
   "outputs": [
    {
     "data": {
      "text/plain": [
       "['mid',\n",
       " 'runs',\n",
       " 'wickets',\n",
       " 'overs',\n",
       " 'runs_last_5',\n",
       " 'wickets_last_5',\n",
       " 'striker',\n",
       " 'non-striker',\n",
       " 'total']"
      ]
     },
     "execution_count": 307,
     "metadata": {},
     "output_type": "execute_result"
    }
   ],
   "source": [
    "data_num_col = data_num.columns.tolist()\n",
    "data_num_col"
   ]
  },
  {
   "cell_type": "code",
   "execution_count": 308,
   "id": "1b7dad68",
   "metadata": {},
   "outputs": [
    {
     "data": {
      "text/plain": [
       "['venue', 'bat_team', 'bowl_team', 'batsman', 'bowler']"
      ]
     },
     "execution_count": 308,
     "metadata": {},
     "output_type": "execute_result"
    }
   ],
   "source": [
    "data_obj_col = data_obj.columns.tolist()\n",
    "data_obj_col"
   ]
  },
  {
   "cell_type": "code",
   "execution_count": null,
   "id": "c2c2b5f7",
   "metadata": {},
   "outputs": [],
   "source": []
  },
  {
   "cell_type": "code",
   "execution_count": 309,
   "id": "90cb541e",
   "metadata": {},
   "outputs": [
    {
     "data": {
      "image/png": "[encoded data removed]",
      "text/plain": [
       "<Figure size 500x500 with 1 Axes>"
      ]
     },
     "metadata": {},
     "output_type": "display_data"
    },
    {
     "data": {
      "image/png": "[encoded data removed]",
      "text/plain": [
       "<Figure size 500x500 with 1 Axes>"
      ]
     },
     "metadata": {},
     "output_type": "display_data"
    },
    {
     "data": {
      "image/png": "[encoded data removed]",
      "text/plain": [
       "<Figure size 500x500 with 1 Axes>"
      ]
     },
     "metadata": {},
     "output_type": "display_data"
    },
    {
     "data": {
      "image/png": "[encoded data removed]",
      "text/plain": [
       "<Figure size 500x500 with 1 Axes>"
      ]
     },
     "metadata": {},
     "output_type": "display_data"
    },
    {
     "data": {
      "image/png": "[encoded data removed]",
      "text/plain": [
       "<Figure size 500x500 with 1 Axes>"
      ]
     },
     "metadata": {},
     "output_type": "display_data"
    },
    {
     "data": {
      "image/png": "[encoded data removed]",
      "text/plain": [
       "<Figure size 500x500 with 1 Axes>"
      ]
     },
     "metadata": {},
     "output_type": "display_data"
    },
    {
     "data": {
      "image/png": "[encoded data removed]",
      "text/plain": [
       "<Figure size 500x500 with 1 Axes>"
      ]
     },
     "metadata": {},
     "output_type": "display_data"
    },
    {
     "data": {
      "image/png": "[encoded data removed]",
      "text/plain": [
       "<Figure size 500x500 with 1 Axes>"
      ]
     },
     "metadata": {},
     "output_type": "display_data"
    },
    {
     "data": {
      "image/png": "[encoded data removed]",
      "text/plain": [
       "<Figure size 500x500 with 1 Axes>"
      ]
     },
     "metadata": {},
     "output_type": "display_data"
    }
   ],
   "source": [
    "# numcol=[]\n",
    "# for col in iplcolumn:\n",
    "#     if data[col].dtypes!= \"object\":\n",
    "#         numcol.append(col)\n",
    "#         plt.hist(data[col])\n",
    "#         plt.xlabel(col)\n",
    "#         plt.show()\n",
    "\n",
    "for i,v in enumerate(data_num_col):\n",
    "    sns.displot(data[v], kde=True)\n",
    "    plt.show()"
   ]
  },
  {
   "cell_type": "code",
   "execution_count": 310,
   "id": "36ea8f71",
   "metadata": {},
   "outputs": [
    {
     "data": {
      "image/png": "[encoded data removed]",
      "text/plain": [
       "<Figure size 640x480 with 1 Axes>"
      ]
     },
     "metadata": {},
     "output_type": "display_data"
    },
    {
     "data": {
      "image/png": "[encoded data removed]",
      "text/plain": [
       "<Figure size 640x480 with 1 Axes>"
      ]
     },
     "metadata": {},
     "output_type": "display_data"
    },
    {
     "data": {
      "image/png": "[encoded data removed]",
      "text/plain": [
       "<Figure size 640x480 with 1 Axes>"
      ]
     },
     "metadata": {},
     "output_type": "display_data"
    },
    {
     "data": {
      "image/png": "[encoded data removed]",
      "text/plain": [
       "<Figure size 640x480 with 1 Axes>"
      ]
     },
     "metadata": {},
     "output_type": "display_data"
    },
    {
     "data": {
      "image/png": "[encoded data removed]",
      "text/plain": [
       "<Figure size 640x480 with 1 Axes>"
      ]
     },
     "metadata": {},
     "output_type": "display_data"
    },
    {
     "data": {
      "image/png": "[encoded data removed]",
      "text/plain": [
       "<Figure size 640x480 with 1 Axes>"
      ]
     },
     "metadata": {},
     "output_type": "display_data"
    },
    {
     "data": {
      "image/png": "[encoded data removed]",
      "text/plain": [
       "<Figure size 640x480 with 1 Axes>"
      ]
     },
     "metadata": {},
     "output_type": "display_data"
    },
    {
     "data": {
      "image/png": "[encoded data removed]",
      "text/plain": [
       "<Figure size 640x480 with 1 Axes>"
      ]
     },
     "metadata": {},
     "output_type": "display_data"
    },
    {
     "data": {
      "image/png": "[encoded data removed]",
      "text/plain": [
       "<Figure size 640x480 with 1 Axes>"
      ]
     },
     "metadata": {},
     "output_type": "display_data"
    }
   ],
   "source": [
    "# for col in iplcolumn:\n",
    "#     if data[col].dtypes== \"int64\" or data[col].dtypes==\"float64\":\n",
    "#         plt.boxplot(data[col])\n",
    "#         plt.xlabel(col)\n",
    "#         plt.show()\n",
    "        \n",
    "for i,v in enumerate(data_num_col):\n",
    "    sns.boxplot(data[v])\n",
    "    plt.show()"
   ]
  },
  {
   "cell_type": "code",
   "execution_count": 311,
   "id": "0fb1a696",
   "metadata": {},
   "outputs": [
    {
     "data": {
      "text/html": [
       "<div>\n",
       "<style scoped>\n",
       "    .dataframe tbody tr th:only-of-type {\n",
       "        vertical-align: middle;\n",
       "    }\n",
       "\n",
       "    .dataframe tbody tr th {\n",
       "        vertical-align: top;\n",
       "    }\n",
       "\n",
       "    .dataframe thead th {\n",
       "        text-align: right;\n",
       "    }\n",
       "</style>\n",
       "<table border=\"1\" class=\"dataframe\">\n",
       "  <thead>\n",
       "    <tr style=\"text-align: right;\">\n",
       "      <th></th>\n",
       "      <th>mid</th>\n",
       "      <th>venue</th>\n",
       "      <th>bat_team</th>\n",
       "      <th>bowl_team</th>\n",
       "      <th>batsman</th>\n",
       "      <th>bowler</th>\n",
       "      <th>runs</th>\n",
       "      <th>wickets</th>\n",
       "      <th>overs</th>\n",
       "      <th>runs_last_5</th>\n",
       "      <th>wickets_last_5</th>\n",
       "      <th>striker</th>\n",
       "      <th>non-striker</th>\n",
       "      <th>total</th>\n",
       "    </tr>\n",
       "  </thead>\n",
       "  <tbody>\n",
       "    <tr>\n",
       "      <th>0</th>\n",
       "      <td>1</td>\n",
       "      <td>14</td>\n",
       "      <td>6</td>\n",
       "      <td>12</td>\n",
       "      <td>328</td>\n",
       "      <td>201</td>\n",
       "      <td>1</td>\n",
       "      <td>0</td>\n",
       "      <td>0.1</td>\n",
       "      <td>1</td>\n",
       "      <td>0</td>\n",
       "      <td>0</td>\n",
       "      <td>0</td>\n",
       "      <td>222</td>\n",
       "    </tr>\n",
       "    <tr>\n",
       "      <th>1</th>\n",
       "      <td>1</td>\n",
       "      <td>14</td>\n",
       "      <td>6</td>\n",
       "      <td>12</td>\n",
       "      <td>61</td>\n",
       "      <td>201</td>\n",
       "      <td>1</td>\n",
       "      <td>0</td>\n",
       "      <td>0.2</td>\n",
       "      <td>1</td>\n",
       "      <td>0</td>\n",
       "      <td>0</td>\n",
       "      <td>0</td>\n",
       "      <td>222</td>\n",
       "    </tr>\n",
       "    <tr>\n",
       "      <th>2</th>\n",
       "      <td>1</td>\n",
       "      <td>14</td>\n",
       "      <td>6</td>\n",
       "      <td>12</td>\n",
       "      <td>61</td>\n",
       "      <td>201</td>\n",
       "      <td>2</td>\n",
       "      <td>0</td>\n",
       "      <td>0.2</td>\n",
       "      <td>2</td>\n",
       "      <td>0</td>\n",
       "      <td>0</td>\n",
       "      <td>0</td>\n",
       "      <td>222</td>\n",
       "    </tr>\n",
       "    <tr>\n",
       "      <th>3</th>\n",
       "      <td>1</td>\n",
       "      <td>14</td>\n",
       "      <td>6</td>\n",
       "      <td>12</td>\n",
       "      <td>61</td>\n",
       "      <td>201</td>\n",
       "      <td>2</td>\n",
       "      <td>0</td>\n",
       "      <td>0.3</td>\n",
       "      <td>2</td>\n",
       "      <td>0</td>\n",
       "      <td>0</td>\n",
       "      <td>0</td>\n",
       "      <td>222</td>\n",
       "    </tr>\n",
       "    <tr>\n",
       "      <th>4</th>\n",
       "      <td>1</td>\n",
       "      <td>14</td>\n",
       "      <td>6</td>\n",
       "      <td>12</td>\n",
       "      <td>61</td>\n",
       "      <td>201</td>\n",
       "      <td>2</td>\n",
       "      <td>0</td>\n",
       "      <td>0.4</td>\n",
       "      <td>2</td>\n",
       "      <td>0</td>\n",
       "      <td>0</td>\n",
       "      <td>0</td>\n",
       "      <td>222</td>\n",
       "    </tr>\n",
       "    <tr>\n",
       "      <th>...</th>\n",
       "      <td>...</td>\n",
       "      <td>...</td>\n",
       "      <td>...</td>\n",
       "      <td>...</td>\n",
       "      <td>...</td>\n",
       "      <td>...</td>\n",
       "      <td>...</td>\n",
       "      <td>...</td>\n",
       "      <td>...</td>\n",
       "      <td>...</td>\n",
       "      <td>...</td>\n",
       "      <td>...</td>\n",
       "      <td>...</td>\n",
       "      <td>...</td>\n",
       "    </tr>\n",
       "    <tr>\n",
       "      <th>76009</th>\n",
       "      <td>617</td>\n",
       "      <td>23</td>\n",
       "      <td>7</td>\n",
       "      <td>10</td>\n",
       "      <td>172</td>\n",
       "      <td>96</td>\n",
       "      <td>121</td>\n",
       "      <td>7</td>\n",
       "      <td>19.2</td>\n",
       "      <td>40</td>\n",
       "      <td>0</td>\n",
       "      <td>40</td>\n",
       "      <td>12</td>\n",
       "      <td>129</td>\n",
       "    </tr>\n",
       "    <tr>\n",
       "      <th>76010</th>\n",
       "      <td>617</td>\n",
       "      <td>23</td>\n",
       "      <td>7</td>\n",
       "      <td>10</td>\n",
       "      <td>172</td>\n",
       "      <td>96</td>\n",
       "      <td>127</td>\n",
       "      <td>7</td>\n",
       "      <td>19.3</td>\n",
       "      <td>46</td>\n",
       "      <td>0</td>\n",
       "      <td>46</td>\n",
       "      <td>12</td>\n",
       "      <td>129</td>\n",
       "    </tr>\n",
       "    <tr>\n",
       "      <th>76011</th>\n",
       "      <td>617</td>\n",
       "      <td>23</td>\n",
       "      <td>7</td>\n",
       "      <td>10</td>\n",
       "      <td>172</td>\n",
       "      <td>96</td>\n",
       "      <td>128</td>\n",
       "      <td>7</td>\n",
       "      <td>19.4</td>\n",
       "      <td>47</td>\n",
       "      <td>0</td>\n",
       "      <td>47</td>\n",
       "      <td>12</td>\n",
       "      <td>129</td>\n",
       "    </tr>\n",
       "    <tr>\n",
       "      <th>76012</th>\n",
       "      <td>617</td>\n",
       "      <td>23</td>\n",
       "      <td>7</td>\n",
       "      <td>10</td>\n",
       "      <td>215</td>\n",
       "      <td>96</td>\n",
       "      <td>129</td>\n",
       "      <td>7</td>\n",
       "      <td>19.5</td>\n",
       "      <td>48</td>\n",
       "      <td>0</td>\n",
       "      <td>47</td>\n",
       "      <td>13</td>\n",
       "      <td>129</td>\n",
       "    </tr>\n",
       "    <tr>\n",
       "      <th>76013</th>\n",
       "      <td>617</td>\n",
       "      <td>23</td>\n",
       "      <td>7</td>\n",
       "      <td>10</td>\n",
       "      <td>172</td>\n",
       "      <td>96</td>\n",
       "      <td>129</td>\n",
       "      <td>8</td>\n",
       "      <td>19.6</td>\n",
       "      <td>47</td>\n",
       "      <td>1</td>\n",
       "      <td>47</td>\n",
       "      <td>13</td>\n",
       "      <td>129</td>\n",
       "    </tr>\n",
       "  </tbody>\n",
       "</table>\n",
       "<p>76014 rows × 14 columns</p>\n",
       "</div>"
      ],
      "text/plain": [
       "       mid  venue  bat_team  bowl_team  batsman  bowler  runs  wickets  overs  \\\n",
       "0        1     14         6         12      328     201     1        0    0.1   \n",
       "1        1     14         6         12       61     201     1        0    0.2   \n",
       "2        1     14         6         12       61     201     2        0    0.2   \n",
       "3        1     14         6         12       61     201     2        0    0.3   \n",
       "4        1     14         6         12       61     201     2        0    0.4   \n",
       "...    ...    ...       ...        ...      ...     ...   ...      ...    ...   \n",
       "76009  617     23         7         10      172      96   121        7   19.2   \n",
       "76010  617     23         7         10      172      96   127        7   19.3   \n",
       "76011  617     23         7         10      172      96   128        7   19.4   \n",
       "76012  617     23         7         10      215      96   129        7   19.5   \n",
       "76013  617     23         7         10      172      96   129        8   19.6   \n",
       "\n",
       "       runs_last_5  wickets_last_5  striker  non-striker  total  \n",
       "0                1               0        0            0    222  \n",
       "1                1               0        0            0    222  \n",
       "2                2               0        0            0    222  \n",
       "3                2               0        0            0    222  \n",
       "4                2               0        0            0    222  \n",
       "...            ...             ...      ...          ...    ...  \n",
       "76009           40               0       40           12    129  \n",
       "76010           46               0       46           12    129  \n",
       "76011           47               0       47           12    129  \n",
       "76012           48               0       47           13    129  \n",
       "76013           47               1       47           13    129  \n",
       "\n",
       "[76014 rows x 14 columns]"
      ]
     },
     "execution_count": 311,
     "metadata": {},
     "output_type": "execute_result"
    }
   ],
   "source": [
    "from sklearn.preprocessing import LabelEncoder\n",
    "label = LabelEncoder()\n",
    "for i in data.columns:\n",
    "    if data[i].dtypes==\"object\":\n",
    "        data[i]= label.fit_transform(data[i])\n",
    "        \n",
    "# from sklearn.preprocessing import LabelEncoder\n",
    "# label = LabelEncoder()\n",
    "# for i in data_obj:\n",
    "#     data[i] = label.fit_transform(data[i])\n",
    "\n",
    "data"
   ]
  },
  {
   "cell_type": "code",
   "execution_count": 312,
   "id": "de4cd67e",
   "metadata": {},
   "outputs": [
    {
     "data": {
      "text/plain": [
       "(Index(['mid', 'venue', 'bat_team', 'bowl_team', 'batsman', 'bowler', 'runs',\n",
       "        'wickets', 'overs', 'runs_last_5', 'wickets_last_5', 'striker',\n",
       "        'non-striker', 'total'],\n",
       "       dtype='object'),\n",
       " 14)"
      ]
     },
     "execution_count": 312,
     "metadata": {},
     "output_type": "execute_result"
    }
   ],
   "source": [
    "data.columns,len(data.columns)"
   ]
  },
  {
   "cell_type": "markdown",
   "id": "4effd98e",
   "metadata": {},
   "source": [
    "# Split the data into features (X) and target (y) label sets"
   ]
  },
  {
   "cell_type": "code",
   "execution_count": 313,
   "id": "5891ec67",
   "metadata": {},
   "outputs": [],
   "source": [
    "x = data.iloc[:,:-1]\n",
    "y = pd.DataFrame(data[\"total\"])"
   ]
  },
  {
   "cell_type": "code",
   "execution_count": 314,
   "id": "d29ca1df",
   "metadata": {},
   "outputs": [
    {
     "data": {
      "text/html": [
       "<div>\n",
       "<style scoped>\n",
       "    .dataframe tbody tr th:only-of-type {\n",
       "        vertical-align: middle;\n",
       "    }\n",
       "\n",
       "    .dataframe tbody tr th {\n",
       "        vertical-align: top;\n",
       "    }\n",
       "\n",
       "    .dataframe thead th {\n",
       "        text-align: right;\n",
       "    }\n",
       "</style>\n",
       "<table border=\"1\" class=\"dataframe\">\n",
       "  <thead>\n",
       "    <tr style=\"text-align: right;\">\n",
       "      <th></th>\n",
       "      <th>mid</th>\n",
       "      <th>venue</th>\n",
       "      <th>bat_team</th>\n",
       "      <th>bowl_team</th>\n",
       "      <th>batsman</th>\n",
       "      <th>bowler</th>\n",
       "      <th>runs</th>\n",
       "      <th>wickets</th>\n",
       "      <th>overs</th>\n",
       "      <th>runs_last_5</th>\n",
       "      <th>wickets_last_5</th>\n",
       "      <th>striker</th>\n",
       "      <th>non-striker</th>\n",
       "    </tr>\n",
       "  </thead>\n",
       "  <tbody>\n",
       "    <tr>\n",
       "      <th>0</th>\n",
       "      <td>1</td>\n",
       "      <td>14</td>\n",
       "      <td>6</td>\n",
       "      <td>12</td>\n",
       "      <td>328</td>\n",
       "      <td>201</td>\n",
       "      <td>1</td>\n",
       "      <td>0</td>\n",
       "      <td>0.1</td>\n",
       "      <td>1</td>\n",
       "      <td>0</td>\n",
       "      <td>0</td>\n",
       "      <td>0</td>\n",
       "    </tr>\n",
       "    <tr>\n",
       "      <th>1</th>\n",
       "      <td>1</td>\n",
       "      <td>14</td>\n",
       "      <td>6</td>\n",
       "      <td>12</td>\n",
       "      <td>61</td>\n",
       "      <td>201</td>\n",
       "      <td>1</td>\n",
       "      <td>0</td>\n",
       "      <td>0.2</td>\n",
       "      <td>1</td>\n",
       "      <td>0</td>\n",
       "      <td>0</td>\n",
       "      <td>0</td>\n",
       "    </tr>\n",
       "    <tr>\n",
       "      <th>2</th>\n",
       "      <td>1</td>\n",
       "      <td>14</td>\n",
       "      <td>6</td>\n",
       "      <td>12</td>\n",
       "      <td>61</td>\n",
       "      <td>201</td>\n",
       "      <td>2</td>\n",
       "      <td>0</td>\n",
       "      <td>0.2</td>\n",
       "      <td>2</td>\n",
       "      <td>0</td>\n",
       "      <td>0</td>\n",
       "      <td>0</td>\n",
       "    </tr>\n",
       "    <tr>\n",
       "      <th>3</th>\n",
       "      <td>1</td>\n",
       "      <td>14</td>\n",
       "      <td>6</td>\n",
       "      <td>12</td>\n",
       "      <td>61</td>\n",
       "      <td>201</td>\n",
       "      <td>2</td>\n",
       "      <td>0</td>\n",
       "      <td>0.3</td>\n",
       "      <td>2</td>\n",
       "      <td>0</td>\n",
       "      <td>0</td>\n",
       "      <td>0</td>\n",
       "    </tr>\n",
       "    <tr>\n",
       "      <th>4</th>\n",
       "      <td>1</td>\n",
       "      <td>14</td>\n",
       "      <td>6</td>\n",
       "      <td>12</td>\n",
       "      <td>61</td>\n",
       "      <td>201</td>\n",
       "      <td>2</td>\n",
       "      <td>0</td>\n",
       "      <td>0.4</td>\n",
       "      <td>2</td>\n",
       "      <td>0</td>\n",
       "      <td>0</td>\n",
       "      <td>0</td>\n",
       "    </tr>\n",
       "    <tr>\n",
       "      <th>...</th>\n",
       "      <td>...</td>\n",
       "      <td>...</td>\n",
       "      <td>...</td>\n",
       "      <td>...</td>\n",
       "      <td>...</td>\n",
       "      <td>...</td>\n",
       "      <td>...</td>\n",
       "      <td>...</td>\n",
       "      <td>...</td>\n",
       "      <td>...</td>\n",
       "      <td>...</td>\n",
       "      <td>...</td>\n",
       "      <td>...</td>\n",
       "    </tr>\n",
       "    <tr>\n",
       "      <th>76009</th>\n",
       "      <td>617</td>\n",
       "      <td>23</td>\n",
       "      <td>7</td>\n",
       "      <td>10</td>\n",
       "      <td>172</td>\n",
       "      <td>96</td>\n",
       "      <td>121</td>\n",
       "      <td>7</td>\n",
       "      <td>19.2</td>\n",
       "      <td>40</td>\n",
       "      <td>0</td>\n",
       "      <td>40</td>\n",
       "      <td>12</td>\n",
       "    </tr>\n",
       "    <tr>\n",
       "      <th>76010</th>\n",
       "      <td>617</td>\n",
       "      <td>23</td>\n",
       "      <td>7</td>\n",
       "      <td>10</td>\n",
       "      <td>172</td>\n",
       "      <td>96</td>\n",
       "      <td>127</td>\n",
       "      <td>7</td>\n",
       "      <td>19.3</td>\n",
       "      <td>46</td>\n",
       "      <td>0</td>\n",
       "      <td>46</td>\n",
       "      <td>12</td>\n",
       "    </tr>\n",
       "    <tr>\n",
       "      <th>76011</th>\n",
       "      <td>617</td>\n",
       "      <td>23</td>\n",
       "      <td>7</td>\n",
       "      <td>10</td>\n",
       "      <td>172</td>\n",
       "      <td>96</td>\n",
       "      <td>128</td>\n",
       "      <td>7</td>\n",
       "      <td>19.4</td>\n",
       "      <td>47</td>\n",
       "      <td>0</td>\n",
       "      <td>47</td>\n",
       "      <td>12</td>\n",
       "    </tr>\n",
       "    <tr>\n",
       "      <th>76012</th>\n",
       "      <td>617</td>\n",
       "      <td>23</td>\n",
       "      <td>7</td>\n",
       "      <td>10</td>\n",
       "      <td>215</td>\n",
       "      <td>96</td>\n",
       "      <td>129</td>\n",
       "      <td>7</td>\n",
       "      <td>19.5</td>\n",
       "      <td>48</td>\n",
       "      <td>0</td>\n",
       "      <td>47</td>\n",
       "      <td>13</td>\n",
       "    </tr>\n",
       "    <tr>\n",
       "      <th>76013</th>\n",
       "      <td>617</td>\n",
       "      <td>23</td>\n",
       "      <td>7</td>\n",
       "      <td>10</td>\n",
       "      <td>172</td>\n",
       "      <td>96</td>\n",
       "      <td>129</td>\n",
       "      <td>8</td>\n",
       "      <td>19.6</td>\n",
       "      <td>47</td>\n",
       "      <td>1</td>\n",
       "      <td>47</td>\n",
       "      <td>13</td>\n",
       "    </tr>\n",
       "  </tbody>\n",
       "</table>\n",
       "<p>76014 rows × 13 columns</p>\n",
       "</div>"
      ],
      "text/plain": [
       "       mid  venue  bat_team  bowl_team  batsman  bowler  runs  wickets  overs  \\\n",
       "0        1     14         6         12      328     201     1        0    0.1   \n",
       "1        1     14         6         12       61     201     1        0    0.2   \n",
       "2        1     14         6         12       61     201     2        0    0.2   \n",
       "3        1     14         6         12       61     201     2        0    0.3   \n",
       "4        1     14         6         12       61     201     2        0    0.4   \n",
       "...    ...    ...       ...        ...      ...     ...   ...      ...    ...   \n",
       "76009  617     23         7         10      172      96   121        7   19.2   \n",
       "76010  617     23         7         10      172      96   127        7   19.3   \n",
       "76011  617     23         7         10      172      96   128        7   19.4   \n",
       "76012  617     23         7         10      215      96   129        7   19.5   \n",
       "76013  617     23         7         10      172      96   129        8   19.6   \n",
       "\n",
       "       runs_last_5  wickets_last_5  striker  non-striker  \n",
       "0                1               0        0            0  \n",
       "1                1               0        0            0  \n",
       "2                2               0        0            0  \n",
       "3                2               0        0            0  \n",
       "4                2               0        0            0  \n",
       "...            ...             ...      ...          ...  \n",
       "76009           40               0       40           12  \n",
       "76010           46               0       46           12  \n",
       "76011           47               0       47           12  \n",
       "76012           48               0       47           13  \n",
       "76013           47               1       47           13  \n",
       "\n",
       "[76014 rows x 13 columns]"
      ]
     },
     "execution_count": 314,
     "metadata": {},
     "output_type": "execute_result"
    }
   ],
   "source": [
    "x"
   ]
  },
  {
   "cell_type": "code",
   "execution_count": 315,
   "id": "80bb0d72",
   "metadata": {},
   "outputs": [
    {
     "data": {
      "text/html": [
       "<div>\n",
       "<style scoped>\n",
       "    .dataframe tbody tr th:only-of-type {\n",
       "        vertical-align: middle;\n",
       "    }\n",
       "\n",
       "    .dataframe tbody tr th {\n",
       "        vertical-align: top;\n",
       "    }\n",
       "\n",
       "    .dataframe thead th {\n",
       "        text-align: right;\n",
       "    }\n",
       "</style>\n",
       "<table border=\"1\" class=\"dataframe\">\n",
       "  <thead>\n",
       "    <tr style=\"text-align: right;\">\n",
       "      <th></th>\n",
       "      <th>total</th>\n",
       "    </tr>\n",
       "  </thead>\n",
       "  <tbody>\n",
       "    <tr>\n",
       "      <th>0</th>\n",
       "      <td>222</td>\n",
       "    </tr>\n",
       "    <tr>\n",
       "      <th>1</th>\n",
       "      <td>222</td>\n",
       "    </tr>\n",
       "    <tr>\n",
       "      <th>2</th>\n",
       "      <td>222</td>\n",
       "    </tr>\n",
       "    <tr>\n",
       "      <th>3</th>\n",
       "      <td>222</td>\n",
       "    </tr>\n",
       "    <tr>\n",
       "      <th>4</th>\n",
       "      <td>222</td>\n",
       "    </tr>\n",
       "    <tr>\n",
       "      <th>...</th>\n",
       "      <td>...</td>\n",
       "    </tr>\n",
       "    <tr>\n",
       "      <th>76009</th>\n",
       "      <td>129</td>\n",
       "    </tr>\n",
       "    <tr>\n",
       "      <th>76010</th>\n",
       "      <td>129</td>\n",
       "    </tr>\n",
       "    <tr>\n",
       "      <th>76011</th>\n",
       "      <td>129</td>\n",
       "    </tr>\n",
       "    <tr>\n",
       "      <th>76012</th>\n",
       "      <td>129</td>\n",
       "    </tr>\n",
       "    <tr>\n",
       "      <th>76013</th>\n",
       "      <td>129</td>\n",
       "    </tr>\n",
       "  </tbody>\n",
       "</table>\n",
       "<p>76014 rows × 1 columns</p>\n",
       "</div>"
      ],
      "text/plain": [
       "       total\n",
       "0        222\n",
       "1        222\n",
       "2        222\n",
       "3        222\n",
       "4        222\n",
       "...      ...\n",
       "76009    129\n",
       "76010    129\n",
       "76011    129\n",
       "76012    129\n",
       "76013    129\n",
       "\n",
       "[76014 rows x 1 columns]"
      ]
     },
     "execution_count": 315,
     "metadata": {},
     "output_type": "execute_result"
    }
   ],
   "source": [
    "y"
   ]
  },
  {
   "cell_type": "code",
   "execution_count": null,
   "id": "024820b2",
   "metadata": {},
   "outputs": [],
   "source": []
  },
  {
   "cell_type": "code",
   "execution_count": null,
   "id": "6428a1b6",
   "metadata": {},
   "outputs": [],
   "source": []
  },
  {
   "cell_type": "markdown",
   "id": "62369c79",
   "metadata": {},
   "source": [
    "# Split the data into a training and test set"
   ]
  },
  {
   "cell_type": "code",
   "execution_count": 316,
   "id": "2e3ec315",
   "metadata": {},
   "outputs": [],
   "source": [
    "from sklearn.model_selection import train_test_split"
   ]
  },
  {
   "cell_type": "code",
   "execution_count": 317,
   "id": "8c7c2d0b",
   "metadata": {},
   "outputs": [],
   "source": [
    "x_train,x_test,y_train,y_test = train_test_split(x,y, train_size=0.8, random_state=30)"
   ]
  },
  {
   "cell_type": "code",
   "execution_count": 318,
   "id": "2ca5642b",
   "metadata": {},
   "outputs": [
    {
     "name": "stdout",
     "output_type": "stream",
     "text": [
      "(60811, 13)\n",
      "(60811, 1)\n",
      "(15203, 13)\n",
      "(15203, 1)\n"
     ]
    }
   ],
   "source": [
    "print(x_train.shape)\n",
    "print(y_train.shape)\n",
    "print(x_test.shape)\n",
    "print(y_test.shape)"
   ]
  },
  {
   "cell_type": "markdown",
   "id": "dc3cc02b",
   "metadata": {},
   "source": [
    "# Create and Train the Model"
   ]
  },
  {
   "cell_type": "code",
   "execution_count": 319,
   "id": "129bf836",
   "metadata": {},
   "outputs": [],
   "source": [
    "# from sklearn.linear_model import LinearRegression\n",
    "from sklearn.tree import DecisionTreeClassifier"
   ]
  },
  {
   "cell_type": "code",
   "execution_count": 320,
   "id": "66a5e094",
   "metadata": {},
   "outputs": [
    {
     "data": {
      "text/html": [
       "<style>#sk-container-id-8 {color: black;}#sk-container-id-8 pre{padding: 0;}#sk-container-id-8 div.sk-toggleable {background-color: white;}#sk-container-id-8 label.sk-toggleable__label {cursor: pointer;display: block;width: 100%;margin-bottom: 0;padding: 0.3em;box-sizing: border-box;text-align: center;}#sk-container-id-8 label.sk-toggleable__label-arrow:before {content: \"▸\";float: left;margin-right: 0.25em;color: #696969;}#sk-container-id-8 label.sk-toggleable__label-arrow:hover:before {color: black;}#sk-container-id-8 div.sk-estimator:hover label.sk-toggleable__label-arrow:before {color: black;}#sk-container-id-8 div.sk-toggleable__content {max-height: 0;max-width: 0;overflow: hidden;text-align: left;background-color: #f0f8ff;}#sk-container-id-8 div.sk-toggleable__content pre {margin: 0.2em;color: black;border-radius: 0.25em;background-color: #f0f8ff;}#sk-container-id-8 input.sk-toggleable__control:checked~div.sk-toggleable__content {max-height: 200px;max-width: 100%;overflow: auto;}#sk-container-id-8 input.sk-toggleable__control:checked~label.sk-toggleable__label-arrow:before {content: \"▾\";}#sk-container-id-8 div.sk-estimator input.sk-toggleable__control:checked~label.sk-toggleable__label {background-color: #d4ebff;}#sk-container-id-8 div.sk-label input.sk-toggleable__control:checked~label.sk-toggleable__label {background-color: #d4ebff;}#sk-container-id-8 input.sk-hidden--visually {border: 0;clip: rect(1px 1px 1px 1px);clip: rect(1px, 1px, 1px, 1px);height: 1px;margin: -1px;overflow: hidden;padding: 0;position: absolute;width: 1px;}#sk-container-id-8 div.sk-estimator {font-family: monospace;background-color: #f0f8ff;border: 1px dotted black;border-radius: 0.25em;box-sizing: border-box;margin-bottom: 0.5em;}#sk-container-id-8 div.sk-estimator:hover {background-color: #d4ebff;}#sk-container-id-8 div.sk-parallel-item::after {content: \"\";width: 100%;border-bottom: 1px solid gray;flex-grow: 1;}#sk-container-id-8 div.sk-label:hover label.sk-toggleable__label {background-color: #d4ebff;}#sk-container-id-8 div.sk-serial::before {content: \"\";position: absolute;border-left: 1px solid gray;box-sizing: border-box;top: 0;bottom: 0;left: 50%;z-index: 0;}#sk-container-id-8 div.sk-serial {display: flex;flex-direction: column;align-items: center;background-color: white;padding-right: 0.2em;padding-left: 0.2em;position: relative;}#sk-container-id-8 div.sk-item {position: relative;z-index: 1;}#sk-container-id-8 div.sk-parallel {display: flex;align-items: stretch;justify-content: center;background-color: white;position: relative;}#sk-container-id-8 div.sk-item::before, #sk-container-id-8 div.sk-parallel-item::before {content: \"\";position: absolute;border-left: 1px solid gray;box-sizing: border-box;top: 0;bottom: 0;left: 50%;z-index: -1;}#sk-container-id-8 div.sk-parallel-item {display: flex;flex-direction: column;z-index: 1;position: relative;background-color: white;}#sk-container-id-8 div.sk-parallel-item:first-child::after {align-self: flex-end;width: 50%;}#sk-container-id-8 div.sk-parallel-item:last-child::after {align-self: flex-start;width: 50%;}#sk-container-id-8 div.sk-parallel-item:only-child::after {width: 0;}#sk-container-id-8 div.sk-dashed-wrapped {border: 1px dashed gray;margin: 0 0.4em 0.5em 0.4em;box-sizing: border-box;padding-bottom: 0.4em;background-color: white;}#sk-container-id-8 div.sk-label label {font-family: monospace;font-weight: bold;display: inline-block;line-height: 1.2em;}#sk-container-id-8 div.sk-label-container {text-align: center;}#sk-container-id-8 div.sk-container {/* jupyter's `normalize.less` sets `[hidden] { display: none; }` but bootstrap.min.css set `[hidden] { display: none !important; }` so we also need the `!important` here to be able to override the default hidden behavior on the sphinx rendered scikit-learn.org. See: https://github.com/scikit-learn/scikit-learn/issues/21755 */display: inline-block !important;position: relative;}#sk-container-id-8 div.sk-text-repr-fallback {display: none;}</style><div id=\"sk-container-id-8\" class=\"sk-top-container\"><div class=\"sk-text-repr-fallback\"><pre>DecisionTreeClassifier()</pre><b>In a Jupyter environment, please rerun this cell to show the HTML representation or trust the notebook. <br />On GitHub, the HTML representation is unable to render, please try loading this page with nbviewer.org.</b></div><div class=\"sk-container\" hidden><div class=\"sk-item\"><div class=\"sk-estimator sk-toggleable\"><input class=\"sk-toggleable__control sk-hidden--visually\" id=\"sk-estimator-id-8\" type=\"checkbox\" checked><label for=\"sk-estimator-id-8\" class=\"sk-toggleable__label sk-toggleable__label-arrow\">DecisionTreeClassifier</label><div class=\"sk-toggleable__content\"><pre>DecisionTreeClassifier()</pre></div></div></div></div></div>"
      ],
      "text/plain": [
       "DecisionTreeClassifier()"
      ]
     },
     "execution_count": 320,
     "metadata": {},
     "output_type": "execute_result"
    }
   ],
   "source": [
    "# regressor = LinearRegression()\n",
    "# regressor.fit(x_train, y_train)\n",
    "dt = DecisionTreeClassifier()\n",
    "dt.fit(x_train,y_train)"
   ]
  },
  {
   "cell_type": "code",
   "execution_count": 321,
   "id": "52c45a68",
   "metadata": {},
   "outputs": [
    {
     "data": {
      "text/plain": [
       "array([160.28508462])"
      ]
     },
     "execution_count": 321,
     "metadata": {},
     "output_type": "execute_result"
    }
   ],
   "source": [
    "regressor.intercept_ # y = mx+x intercept is c"
   ]
  },
  {
   "cell_type": "code",
   "execution_count": 322,
   "id": "be0aa241",
   "metadata": {},
   "outputs": [
    {
     "data": {
      "text/plain": [
       "array([[ 6.48568947e-03, -1.82688288e-02,  1.05363727e-01,\n",
       "        -3.30981272e-01,  2.63958813e-03, -1.46099252e-04,\n",
       "         9.24053641e-01, -4.83041292e+00, -5.90885759e+00,\n",
       "         8.40510155e-02, -1.83909558e+00, -3.43006724e-03,\n",
       "        -6.67695322e-02]])"
      ]
     },
     "execution_count": 322,
     "metadata": {},
     "output_type": "execute_result"
    }
   ],
   "source": [
    "regressor.coef_   # y= mx+c coefficient is m"
   ]
  },
  {
   "cell_type": "markdown",
   "id": "c461a8d5",
   "metadata": {},
   "source": [
    "## Predicting the test set results"
   ]
  },
  {
   "cell_type": "code",
   "execution_count": 323,
   "id": "0eec1d73",
   "metadata": {},
   "outputs": [
    {
     "data": {
      "text/plain": [
       "array([148, 112, 130, ..., 169, 175, 154], dtype=int64)"
      ]
     },
     "execution_count": 323,
     "metadata": {},
     "output_type": "execute_result"
    }
   ],
   "source": [
    "y_pred = dt.predict(x_test)\n",
    "y_pred"
   ]
  },
  {
   "cell_type": "code",
   "execution_count": 324,
   "id": "9ab36063",
   "metadata": {},
   "outputs": [
    {
     "data": {
      "text/html": [
       "<div>\n",
       "<style scoped>\n",
       "    .dataframe tbody tr th:only-of-type {\n",
       "        vertical-align: middle;\n",
       "    }\n",
       "\n",
       "    .dataframe tbody tr th {\n",
       "        vertical-align: top;\n",
       "    }\n",
       "\n",
       "    .dataframe thead th {\n",
       "        text-align: right;\n",
       "    }\n",
       "</style>\n",
       "<table border=\"1\" class=\"dataframe\">\n",
       "  <thead>\n",
       "    <tr style=\"text-align: right;\">\n",
       "      <th></th>\n",
       "      <th>actual</th>\n",
       "      <th>predicted</th>\n",
       "    </tr>\n",
       "  </thead>\n",
       "  <tbody>\n",
       "  </tbody>\n",
       "</table>\n",
       "</div>"
      ],
      "text/plain": [
       "Empty DataFrame\n",
       "Columns: [actual, predicted]\n",
       "Index: []"
      ]
     },
     "execution_count": 324,
     "metadata": {},
     "output_type": "execute_result"
    }
   ],
   "source": [
    "error_pred = pd.DataFrame(columns = [\"actual\",\"predicted\"])\n",
    "error_pred"
   ]
  },
  {
   "cell_type": "code",
   "execution_count": 325,
   "id": "d6eb3519",
   "metadata": {},
   "outputs": [
    {
     "data": {
      "text/html": [
       "<div>\n",
       "<style scoped>\n",
       "    .dataframe tbody tr th:only-of-type {\n",
       "        vertical-align: middle;\n",
       "    }\n",
       "\n",
       "    .dataframe tbody tr th {\n",
       "        vertical-align: top;\n",
       "    }\n",
       "\n",
       "    .dataframe thead th {\n",
       "        text-align: right;\n",
       "    }\n",
       "</style>\n",
       "<table border=\"1\" class=\"dataframe\">\n",
       "  <thead>\n",
       "    <tr style=\"text-align: right;\">\n",
       "      <th></th>\n",
       "      <th>actual</th>\n",
       "      <th>predicted</th>\n",
       "    </tr>\n",
       "  </thead>\n",
       "  <tbody>\n",
       "    <tr>\n",
       "      <th>50510</th>\n",
       "      <td>148</td>\n",
       "      <td>148</td>\n",
       "    </tr>\n",
       "    <tr>\n",
       "      <th>21582</th>\n",
       "      <td>112</td>\n",
       "      <td>112</td>\n",
       "    </tr>\n",
       "    <tr>\n",
       "      <th>19617</th>\n",
       "      <td>130</td>\n",
       "      <td>130</td>\n",
       "    </tr>\n",
       "    <tr>\n",
       "      <th>60283</th>\n",
       "      <td>163</td>\n",
       "      <td>163</td>\n",
       "    </tr>\n",
       "    <tr>\n",
       "      <th>31635</th>\n",
       "      <td>134</td>\n",
       "      <td>134</td>\n",
       "    </tr>\n",
       "    <tr>\n",
       "      <th>...</th>\n",
       "      <td>...</td>\n",
       "      <td>...</td>\n",
       "    </tr>\n",
       "    <tr>\n",
       "      <th>68527</th>\n",
       "      <td>162</td>\n",
       "      <td>162</td>\n",
       "    </tr>\n",
       "    <tr>\n",
       "      <th>29443</th>\n",
       "      <td>205</td>\n",
       "      <td>205</td>\n",
       "    </tr>\n",
       "    <tr>\n",
       "      <th>2438</th>\n",
       "      <td>169</td>\n",
       "      <td>169</td>\n",
       "    </tr>\n",
       "    <tr>\n",
       "      <th>66565</th>\n",
       "      <td>175</td>\n",
       "      <td>175</td>\n",
       "    </tr>\n",
       "    <tr>\n",
       "      <th>5218</th>\n",
       "      <td>154</td>\n",
       "      <td>154</td>\n",
       "    </tr>\n",
       "  </tbody>\n",
       "</table>\n",
       "<p>15203 rows × 2 columns</p>\n",
       "</div>"
      ],
      "text/plain": [
       "       actual  predicted\n",
       "50510     148        148\n",
       "21582     112        112\n",
       "19617     130        130\n",
       "60283     163        163\n",
       "31635     134        134\n",
       "...       ...        ...\n",
       "68527     162        162\n",
       "29443     205        205\n",
       "2438      169        169\n",
       "66565     175        175\n",
       "5218      154        154\n",
       "\n",
       "[15203 rows x 2 columns]"
      ]
     },
     "execution_count": 325,
     "metadata": {},
     "output_type": "execute_result"
    }
   ],
   "source": [
    "error_pred[\"actual\"] = y_test\n",
    "error_pred[\"predicted\"] = y_pred\n",
    "error_pred"
   ]
  },
  {
   "cell_type": "code",
   "execution_count": 326,
   "id": "a95c83c2",
   "metadata": {},
   "outputs": [
    {
     "data": {
      "text/html": [
       "<div>\n",
       "<style scoped>\n",
       "    .dataframe tbody tr th:only-of-type {\n",
       "        vertical-align: middle;\n",
       "    }\n",
       "\n",
       "    .dataframe tbody tr th {\n",
       "        vertical-align: top;\n",
       "    }\n",
       "\n",
       "    .dataframe thead th {\n",
       "        text-align: right;\n",
       "    }\n",
       "</style>\n",
       "<table border=\"1\" class=\"dataframe\">\n",
       "  <thead>\n",
       "    <tr style=\"text-align: right;\">\n",
       "      <th></th>\n",
       "      <th>actual</th>\n",
       "      <th>predicted</th>\n",
       "      <th>error</th>\n",
       "    </tr>\n",
       "  </thead>\n",
       "  <tbody>\n",
       "    <tr>\n",
       "      <th>50510</th>\n",
       "      <td>148</td>\n",
       "      <td>148</td>\n",
       "      <td>0</td>\n",
       "    </tr>\n",
       "    <tr>\n",
       "      <th>21582</th>\n",
       "      <td>112</td>\n",
       "      <td>112</td>\n",
       "      <td>0</td>\n",
       "    </tr>\n",
       "    <tr>\n",
       "      <th>19617</th>\n",
       "      <td>130</td>\n",
       "      <td>130</td>\n",
       "      <td>0</td>\n",
       "    </tr>\n",
       "    <tr>\n",
       "      <th>60283</th>\n",
       "      <td>163</td>\n",
       "      <td>163</td>\n",
       "      <td>0</td>\n",
       "    </tr>\n",
       "    <tr>\n",
       "      <th>31635</th>\n",
       "      <td>134</td>\n",
       "      <td>134</td>\n",
       "      <td>0</td>\n",
       "    </tr>\n",
       "    <tr>\n",
       "      <th>...</th>\n",
       "      <td>...</td>\n",
       "      <td>...</td>\n",
       "      <td>...</td>\n",
       "    </tr>\n",
       "    <tr>\n",
       "      <th>68527</th>\n",
       "      <td>162</td>\n",
       "      <td>162</td>\n",
       "      <td>0</td>\n",
       "    </tr>\n",
       "    <tr>\n",
       "      <th>29443</th>\n",
       "      <td>205</td>\n",
       "      <td>205</td>\n",
       "      <td>0</td>\n",
       "    </tr>\n",
       "    <tr>\n",
       "      <th>2438</th>\n",
       "      <td>169</td>\n",
       "      <td>169</td>\n",
       "      <td>0</td>\n",
       "    </tr>\n",
       "    <tr>\n",
       "      <th>66565</th>\n",
       "      <td>175</td>\n",
       "      <td>175</td>\n",
       "      <td>0</td>\n",
       "    </tr>\n",
       "    <tr>\n",
       "      <th>5218</th>\n",
       "      <td>154</td>\n",
       "      <td>154</td>\n",
       "      <td>0</td>\n",
       "    </tr>\n",
       "  </tbody>\n",
       "</table>\n",
       "<p>15203 rows × 3 columns</p>\n",
       "</div>"
      ],
      "text/plain": [
       "       actual  predicted  error\n",
       "50510     148        148      0\n",
       "21582     112        112      0\n",
       "19617     130        130      0\n",
       "60283     163        163      0\n",
       "31635     134        134      0\n",
       "...       ...        ...    ...\n",
       "68527     162        162      0\n",
       "29443     205        205      0\n",
       "2438      169        169      0\n",
       "66565     175        175      0\n",
       "5218      154        154      0\n",
       "\n",
       "[15203 rows x 3 columns]"
      ]
     },
     "execution_count": 326,
     "metadata": {},
     "output_type": "execute_result"
    }
   ],
   "source": [
    "error_pred[\"error\"] = error_pred.actual - error_pred.predicted\n",
    "error_pred"
   ]
  },
  {
   "cell_type": "markdown",
   "id": "936077be",
   "metadata": {},
   "source": [
    "# Calculating the accuracy\n"
   ]
  },
  {
   "cell_type": "code",
   "execution_count": 327,
   "id": "0ec3b3e2",
   "metadata": {},
   "outputs": [],
   "source": [
    "from sklearn import metrics"
   ]
  },
  {
   "cell_type": "code",
   "execution_count": 328,
   "id": "0d0f2fcc",
   "metadata": {},
   "outputs": [
    {
     "name": "stdout",
     "output_type": "stream",
     "text": [
      "Mean absolute error: 0.0024337301848319413\n",
      "Mean squared error: 0.08070775504834572\n",
      "Root Mean squared error: 0.04933285097003762\n",
      "Mean absolute percentage error: 0.0013663477485246515\n"
     ]
    }
   ],
   "source": [
    "print(\"Mean absolute error:\", metrics.mean_absolute_error(y_test,y_pred))\n",
    "print(\"Mean squared error:\", metrics.mean_squared_error(y_test,y_pred))\n",
    "print(\"Root Mean squared error:\", np.sqrt(metrics.mean_absolute_error(y_test,y_pred)))\n",
    "print(\"Mean absolute percentage error:\", metrics.mean_absolute_percentage_error(y_test, y_pred)*100)"
   ]
  },
  {
   "cell_type": "code",
   "execution_count": null,
   "id": "a7d80320",
   "metadata": {},
   "outputs": [],
   "source": []
  },
  {
   "cell_type": "code",
   "execution_count": 329,
   "id": "5219c3a7",
   "metadata": {},
   "outputs": [],
   "source": [
    "from sklearn.metrics import r2_score"
   ]
  },
  {
   "cell_type": "code",
   "execution_count": 331,
   "id": "1d4f47c6",
   "metadata": {},
   "outputs": [
    {
     "data": {
      "text/plain": [
       "99.99051451253024"
      ]
     },
     "execution_count": 331,
     "metadata": {},
     "output_type": "execute_result"
    }
   ],
   "source": [
    "r2_score(y_test,y_pred)*100"
   ]
  },
  {
   "cell_type": "code",
   "execution_count": 335,
   "id": "8fc61566",
   "metadata": {},
   "outputs": [
    {
     "name": "stdout",
     "output_type": "stream",
     "text": [
      "Accuracy: 99.98026705255542\n"
     ]
    }
   ],
   "source": [
    "print('Accuracy:', (dt.score(x_test, y_test))*100)"
   ]
  },
  {
   "cell_type": "code",
   "execution_count": null,
   "id": "87e72e2b",
   "metadata": {},
   "outputs": [],
   "source": []
  },
  {
   "cell_type": "code",
   "execution_count": null,
   "id": "a4fe4b54",
   "metadata": {},
   "outputs": [],
   "source": []
  },
  {
   "cell_type": "markdown",
   "id": "6d0b328e",
   "metadata": {},
   "source": [
    "# Evaluate model using Confusion Matrix"
   ]
  },
  {
   "cell_type": "code",
   "execution_count": 343,
   "id": "1e1e4441",
   "metadata": {},
   "outputs": [
    {
     "name": "stdout",
     "output_type": "stream",
     "text": [
      "[[162   0   0 ...   0   0   0]\n",
      " [  0  80   0 ...   0   0   0]\n",
      " [  0   0  74 ...   0   0   0]\n",
      " ...\n",
      " [  0   0   0 ...  95   0   0]\n",
      " [  0   0   0 ...   0  92   0]\n",
      " [  0   0   0 ...   0   0 107]]\n"
     ]
    }
   ],
   "source": [
    "#Confusion matrix\n",
    "from sklearn.metrics import confusion_matrix\n",
    "confusion_matrix = confusion_matrix(y_train, dt.predict(x_train))\n",
    "print(confusion_matrix)"
   ]
  },
  {
   "cell_type": "code",
   "execution_count": 344,
   "id": "0f99476d",
   "metadata": {},
   "outputs": [
    {
     "name": "stdout",
     "output_type": "stream",
     "text": [
      "[[44  0  0 ...  0  0  0]\n",
      " [ 0 11  0 ...  0  0  0]\n",
      " [ 0  0 24 ...  0  0  0]\n",
      " ...\n",
      " [ 0  0  0 ... 27  0  0]\n",
      " [ 0  0  0 ...  0 30  0]\n",
      " [ 0  0  0 ...  0  0 21]]\n"
     ]
    }
   ],
   "source": [
    "#Confusion matrix\n",
    "from sklearn.metrics import confusion_matrix\n",
    "confusion_matrix = confusion_matrix(y_test, y_pred)\n",
    "print(confusion_matrix)"
   ]
  },
  {
   "cell_type": "code",
   "execution_count": null,
   "id": "2aad583c",
   "metadata": {},
   "outputs": [],
   "source": []
  },
  {
   "cell_type": "code",
   "execution_count": null,
   "id": "db8f9ac7",
   "metadata": {},
   "outputs": [],
   "source": []
  },
  {
   "cell_type": "code",
   "execution_count": null,
   "id": "125b5a59",
   "metadata": {},
   "outputs": [],
   "source": []
  },
  {
   "cell_type": "code",
   "execution_count": null,
   "id": "c350c7cf",
   "metadata": {},
   "outputs": [],
   "source": []
  },
  {
   "cell_type": "code",
   "execution_count": null,
   "id": "abb59911",
   "metadata": {},
   "outputs": [],
   "source": []
  },
  {
   "cell_type": "code",
   "execution_count": null,
   "id": "befc61a1",
   "metadata": {},
   "outputs": [],
   "source": []
  }
 ],
 "metadata": {
  "kernelspec": {
   "display_name": "Python 3 (ipykernel)",
   "language": "python",
   "name": "python3"
  },
  "language_info": {
   "codemirror_mode": {
    "name": "ipython",
    "version": 3
   },
   "file_extension": ".py",
   "mimetype": "text/x-python",
   "name": "python",
   "nbconvert_exporter": "python",
   "pygments_lexer": "ipython3",
   "version": "3.11.5"
  }
 },
 "nbformat": 4,
 "nbformat_minor": 5
}
