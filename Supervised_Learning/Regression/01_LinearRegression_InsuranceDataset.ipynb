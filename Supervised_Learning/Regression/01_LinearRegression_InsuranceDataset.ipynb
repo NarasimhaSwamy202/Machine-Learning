{
 "cells": [
  {
   "cell_type": "code",
   "execution_count": 2,
   "id": "13ec1139",
   "metadata": {},
   "outputs": [],
   "source": [
    "import pandas as pd\n",
    "import numpy as numpy\n",
    "import matplotlib.pyplot as plt\n",
    "import seaborn as sns"
   ]
  },
  {
   "cell_type": "code",
   "execution_count": 3,
   "id": "aba1ac25",
   "metadata": {},
   "outputs": [
    {
     "data": {
      "text/html": [
       "<div>\n",
       "<style scoped>\n",
       "    .dataframe tbody tr th:only-of-type {\n",
       "        vertical-align: middle;\n",
       "    }\n",
       "\n",
       "    .dataframe tbody tr th {\n",
       "        vertical-align: top;\n",
       "    }\n",
       "\n",
       "    .dataframe thead th {\n",
       "        text-align: right;\n",
       "    }\n",
       "</style>\n",
       "<table border=\"1\" class=\"dataframe\">\n",
       "  <thead>\n",
       "    <tr style=\"text-align: right;\">\n",
       "      <th></th>\n",
       "      <th>age</th>\n",
       "      <th>sex</th>\n",
       "      <th>bmi</th>\n",
       "      <th>children</th>\n",
       "      <th>smoker</th>\n",
       "      <th>Claim_Amount</th>\n",
       "      <th>past_consultations</th>\n",
       "      <th>num_of_steps</th>\n",
       "      <th>Hospital_expenditure</th>\n",
       "      <th>NUmber_of_past_hospitalizations</th>\n",
       "      <th>Anual_Salary</th>\n",
       "      <th>region</th>\n",
       "      <th>charges</th>\n",
       "    </tr>\n",
       "  </thead>\n",
       "  <tbody>\n",
       "    <tr>\n",
       "      <th>0</th>\n",
       "      <td>18.0</td>\n",
       "      <td>male</td>\n",
       "      <td>23.21</td>\n",
       "      <td>0.0</td>\n",
       "      <td>no</td>\n",
       "      <td>29087.54313</td>\n",
       "      <td>17.0</td>\n",
       "      <td>715428.0</td>\n",
       "      <td>4720920.992</td>\n",
       "      <td>0.0</td>\n",
       "      <td>55784970.05</td>\n",
       "      <td>southeast</td>\n",
       "      <td>1121.8739</td>\n",
       "    </tr>\n",
       "    <tr>\n",
       "      <th>1</th>\n",
       "      <td>18.0</td>\n",
       "      <td>male</td>\n",
       "      <td>30.14</td>\n",
       "      <td>0.0</td>\n",
       "      <td>no</td>\n",
       "      <td>39053.67437</td>\n",
       "      <td>7.0</td>\n",
       "      <td>699157.0</td>\n",
       "      <td>4329831.676</td>\n",
       "      <td>0.0</td>\n",
       "      <td>13700885.19</td>\n",
       "      <td>southeast</td>\n",
       "      <td>1131.5066</td>\n",
       "    </tr>\n",
       "    <tr>\n",
       "      <th>2</th>\n",
       "      <td>18.0</td>\n",
       "      <td>male</td>\n",
       "      <td>33.33</td>\n",
       "      <td>0.0</td>\n",
       "      <td>no</td>\n",
       "      <td>39023.62759</td>\n",
       "      <td>19.0</td>\n",
       "      <td>702341.0</td>\n",
       "      <td>6884860.774</td>\n",
       "      <td>0.0</td>\n",
       "      <td>73523107.27</td>\n",
       "      <td>southeast</td>\n",
       "      <td>1135.9407</td>\n",
       "    </tr>\n",
       "    <tr>\n",
       "      <th>3</th>\n",
       "      <td>18.0</td>\n",
       "      <td>male</td>\n",
       "      <td>33.66</td>\n",
       "      <td>0.0</td>\n",
       "      <td>no</td>\n",
       "      <td>28185.39332</td>\n",
       "      <td>11.0</td>\n",
       "      <td>700250.0</td>\n",
       "      <td>4274773.550</td>\n",
       "      <td>0.0</td>\n",
       "      <td>75819679.60</td>\n",
       "      <td>southeast</td>\n",
       "      <td>1136.3994</td>\n",
       "    </tr>\n",
       "    <tr>\n",
       "      <th>4</th>\n",
       "      <td>18.0</td>\n",
       "      <td>male</td>\n",
       "      <td>34.10</td>\n",
       "      <td>0.0</td>\n",
       "      <td>no</td>\n",
       "      <td>14697.85941</td>\n",
       "      <td>16.0</td>\n",
       "      <td>711584.0</td>\n",
       "      <td>3787293.921</td>\n",
       "      <td>0.0</td>\n",
       "      <td>23012320.01</td>\n",
       "      <td>southeast</td>\n",
       "      <td>1137.0110</td>\n",
       "    </tr>\n",
       "  </tbody>\n",
       "</table>\n",
       "</div>"
      ],
      "text/plain": [
       "    age   sex    bmi  children smoker  Claim_Amount  past_consultations  \\\n",
       "0  18.0  male  23.21       0.0     no   29087.54313                17.0   \n",
       "1  18.0  male  30.14       0.0     no   39053.67437                 7.0   \n",
       "2  18.0  male  33.33       0.0     no   39023.62759                19.0   \n",
       "3  18.0  male  33.66       0.0     no   28185.39332                11.0   \n",
       "4  18.0  male  34.10       0.0     no   14697.85941                16.0   \n",
       "\n",
       "   num_of_steps  Hospital_expenditure  NUmber_of_past_hospitalizations  \\\n",
       "0      715428.0           4720920.992                              0.0   \n",
       "1      699157.0           4329831.676                              0.0   \n",
       "2      702341.0           6884860.774                              0.0   \n",
       "3      700250.0           4274773.550                              0.0   \n",
       "4      711584.0           3787293.921                              0.0   \n",
       "\n",
       "   Anual_Salary     region    charges  \n",
       "0   55784970.05  southeast  1121.8739  \n",
       "1   13700885.19  southeast  1131.5066  \n",
       "2   73523107.27  southeast  1135.9407  \n",
       "3   75819679.60  southeast  1136.3994  \n",
       "4   23012320.01  southeast  1137.0110  "
      ]
     },
     "execution_count": 3,
     "metadata": {},
     "output_type": "execute_result"
    }
   ],
   "source": [
    "# Loading indurnce dataset\n",
    "data = pd.read_csv(\"new_insurance_data.csv\")\n",
    "data.head()"
   ]
  },
  {
   "cell_type": "code",
   "execution_count": 44,
   "id": "cd237492",
   "metadata": {},
   "outputs": [
    {
     "data": {
      "text/plain": [
       "(1338, 13)"
      ]
     },
     "execution_count": 44,
     "metadata": {},
     "output_type": "execute_result"
    }
   ],
   "source": [
    "data.shape"
   ]
  },
  {
   "cell_type": "code",
   "execution_count": 45,
   "id": "f93f7d68",
   "metadata": {},
   "outputs": [
    {
     "name": "stdout",
     "output_type": "stream",
     "text": [
      "<class 'pandas.core.frame.DataFrame'>\n",
      "RangeIndex: 1338 entries, 0 to 1337\n",
      "Data columns (total 13 columns):\n",
      " #   Column                           Non-Null Count  Dtype  \n",
      "---  ------                           --------------  -----  \n",
      " 0   age                              1329 non-null   float64\n",
      " 1   sex                              1338 non-null   object \n",
      " 2   bmi                              1335 non-null   float64\n",
      " 3   children                         1333 non-null   float64\n",
      " 4   smoker                           1338 non-null   object \n",
      " 5   Claim_Amount                     1324 non-null   float64\n",
      " 6   past_consultations               1332 non-null   float64\n",
      " 7   num_of_steps                     1335 non-null   float64\n",
      " 8   Hospital_expenditure             1334 non-null   float64\n",
      " 9   NUmber_of_past_hospitalizations  1336 non-null   float64\n",
      " 10  Anual_Salary                     1332 non-null   float64\n",
      " 11  region                           1338 non-null   object \n",
      " 12  charges                          1338 non-null   float64\n",
      "dtypes: float64(10), object(3)\n",
      "memory usage: 136.0+ KB\n"
     ]
    }
   ],
   "source": [
    "data.info()"
   ]
  },
  {
   "cell_type": "code",
   "execution_count": 46,
   "id": "efd18de8",
   "metadata": {},
   "outputs": [
    {
     "data": {
      "text/html": [
       "<div>\n",
       "<style scoped>\n",
       "    .dataframe tbody tr th:only-of-type {\n",
       "        vertical-align: middle;\n",
       "    }\n",
       "\n",
       "    .dataframe tbody tr th {\n",
       "        vertical-align: top;\n",
       "    }\n",
       "\n",
       "    .dataframe thead th {\n",
       "        text-align: right;\n",
       "    }\n",
       "</style>\n",
       "<table border=\"1\" class=\"dataframe\">\n",
       "  <thead>\n",
       "    <tr style=\"text-align: right;\">\n",
       "      <th></th>\n",
       "      <th>age</th>\n",
       "      <th>bmi</th>\n",
       "      <th>children</th>\n",
       "      <th>Claim_Amount</th>\n",
       "      <th>past_consultations</th>\n",
       "      <th>num_of_steps</th>\n",
       "      <th>Hospital_expenditure</th>\n",
       "      <th>NUmber_of_past_hospitalizations</th>\n",
       "      <th>Anual_Salary</th>\n",
       "      <th>charges</th>\n",
       "    </tr>\n",
       "  </thead>\n",
       "  <tbody>\n",
       "    <tr>\n",
       "      <th>count</th>\n",
       "      <td>1329.000000</td>\n",
       "      <td>1335.000000</td>\n",
       "      <td>1333.000000</td>\n",
       "      <td>1324.000000</td>\n",
       "      <td>1332.000000</td>\n",
       "      <td>1.335000e+03</td>\n",
       "      <td>1.334000e+03</td>\n",
       "      <td>1336.000000</td>\n",
       "      <td>1.332000e+03</td>\n",
       "      <td>1338.000000</td>\n",
       "    </tr>\n",
       "    <tr>\n",
       "      <th>mean</th>\n",
       "      <td>39.310008</td>\n",
       "      <td>30.665112</td>\n",
       "      <td>1.090773</td>\n",
       "      <td>33361.327180</td>\n",
       "      <td>15.216216</td>\n",
       "      <td>9.100047e+05</td>\n",
       "      <td>1.584179e+07</td>\n",
       "      <td>1.060629</td>\n",
       "      <td>3.696849e+08</td>\n",
       "      <td>13270.422265</td>\n",
       "    </tr>\n",
       "    <tr>\n",
       "      <th>std</th>\n",
       "      <td>14.034818</td>\n",
       "      <td>6.101690</td>\n",
       "      <td>1.201856</td>\n",
       "      <td>15617.288337</td>\n",
       "      <td>7.467723</td>\n",
       "      <td>9.188612e+04</td>\n",
       "      <td>2.669305e+07</td>\n",
       "      <td>0.533583</td>\n",
       "      <td>5.668843e+08</td>\n",
       "      <td>12110.011237</td>\n",
       "    </tr>\n",
       "    <tr>\n",
       "      <th>min</th>\n",
       "      <td>18.000000</td>\n",
       "      <td>15.960000</td>\n",
       "      <td>0.000000</td>\n",
       "      <td>1920.136268</td>\n",
       "      <td>1.000000</td>\n",
       "      <td>6.954300e+05</td>\n",
       "      <td>2.945253e+04</td>\n",
       "      <td>0.000000</td>\n",
       "      <td>2.747072e+06</td>\n",
       "      <td>1121.873900</td>\n",
       "    </tr>\n",
       "    <tr>\n",
       "      <th>25%</th>\n",
       "      <td>27.000000</td>\n",
       "      <td>26.302500</td>\n",
       "      <td>0.000000</td>\n",
       "      <td>20768.860390</td>\n",
       "      <td>9.000000</td>\n",
       "      <td>8.471995e+05</td>\n",
       "      <td>4.077633e+06</td>\n",
       "      <td>1.000000</td>\n",
       "      <td>7.701932e+07</td>\n",
       "      <td>4740.287150</td>\n",
       "    </tr>\n",
       "    <tr>\n",
       "      <th>50%</th>\n",
       "      <td>39.000000</td>\n",
       "      <td>30.400000</td>\n",
       "      <td>1.000000</td>\n",
       "      <td>33700.310675</td>\n",
       "      <td>15.000000</td>\n",
       "      <td>9.143000e+05</td>\n",
       "      <td>7.490337e+06</td>\n",
       "      <td>1.000000</td>\n",
       "      <td>1.419361e+08</td>\n",
       "      <td>9382.033000</td>\n",
       "    </tr>\n",
       "    <tr>\n",
       "      <th>75%</th>\n",
       "      <td>51.000000</td>\n",
       "      <td>34.687500</td>\n",
       "      <td>2.000000</td>\n",
       "      <td>45052.331957</td>\n",
       "      <td>20.000000</td>\n",
       "      <td>9.716840e+05</td>\n",
       "      <td>1.084082e+07</td>\n",
       "      <td>1.000000</td>\n",
       "      <td>3.243499e+08</td>\n",
       "      <td>16639.912515</td>\n",
       "    </tr>\n",
       "    <tr>\n",
       "      <th>max</th>\n",
       "      <td>64.000000</td>\n",
       "      <td>53.130000</td>\n",
       "      <td>5.000000</td>\n",
       "      <td>77277.988480</td>\n",
       "      <td>40.000000</td>\n",
       "      <td>1.107872e+06</td>\n",
       "      <td>2.616317e+08</td>\n",
       "      <td>3.000000</td>\n",
       "      <td>4.117197e+09</td>\n",
       "      <td>63770.428010</td>\n",
       "    </tr>\n",
       "  </tbody>\n",
       "</table>\n",
       "</div>"
      ],
      "text/plain": [
       "               age          bmi     children  Claim_Amount  \\\n",
       "count  1329.000000  1335.000000  1333.000000   1324.000000   \n",
       "mean     39.310008    30.665112     1.090773  33361.327180   \n",
       "std      14.034818     6.101690     1.201856  15617.288337   \n",
       "min      18.000000    15.960000     0.000000   1920.136268   \n",
       "25%      27.000000    26.302500     0.000000  20768.860390   \n",
       "50%      39.000000    30.400000     1.000000  33700.310675   \n",
       "75%      51.000000    34.687500     2.000000  45052.331957   \n",
       "max      64.000000    53.130000     5.000000  77277.988480   \n",
       "\n",
       "       past_consultations  num_of_steps  Hospital_expenditure  \\\n",
       "count         1332.000000  1.335000e+03          1.334000e+03   \n",
       "mean            15.216216  9.100047e+05          1.584179e+07   \n",
       "std              7.467723  9.188612e+04          2.669305e+07   \n",
       "min              1.000000  6.954300e+05          2.945253e+04   \n",
       "25%              9.000000  8.471995e+05          4.077633e+06   \n",
       "50%             15.000000  9.143000e+05          7.490337e+06   \n",
       "75%             20.000000  9.716840e+05          1.084082e+07   \n",
       "max             40.000000  1.107872e+06          2.616317e+08   \n",
       "\n",
       "       NUmber_of_past_hospitalizations  Anual_Salary       charges  \n",
       "count                      1336.000000  1.332000e+03   1338.000000  \n",
       "mean                          1.060629  3.696849e+08  13270.422265  \n",
       "std                           0.533583  5.668843e+08  12110.011237  \n",
       "min                           0.000000  2.747072e+06   1121.873900  \n",
       "25%                           1.000000  7.701932e+07   4740.287150  \n",
       "50%                           1.000000  1.419361e+08   9382.033000  \n",
       "75%                           1.000000  3.243499e+08  16639.912515  \n",
       "max                           3.000000  4.117197e+09  63770.428010  "
      ]
     },
     "execution_count": 46,
     "metadata": {},
     "output_type": "execute_result"
    }
   ],
   "source": [
    "data.describe()"
   ]
  },
  {
   "cell_type": "code",
   "execution_count": 47,
   "id": "143021fd",
   "metadata": {},
   "outputs": [
    {
     "data": {
      "text/plain": [
       "age                                 9\n",
       "sex                                 0\n",
       "bmi                                 3\n",
       "children                            5\n",
       "smoker                              0\n",
       "Claim_Amount                       14\n",
       "past_consultations                  6\n",
       "num_of_steps                        3\n",
       "Hospital_expenditure                4\n",
       "NUmber_of_past_hospitalizations     2\n",
       "Anual_Salary                        6\n",
       "region                              0\n",
       "charges                             0\n",
       "dtype: int64"
      ]
     },
     "execution_count": 47,
     "metadata": {},
     "output_type": "execute_result"
    }
   ],
   "source": [
    "data.isnull().sum()"
   ]
  },
  {
   "cell_type": "code",
   "execution_count": 48,
   "id": "6dca9f87",
   "metadata": {},
   "outputs": [
    {
     "data": {
      "text/plain": [
       "52"
      ]
     },
     "execution_count": 48,
     "metadata": {},
     "output_type": "execute_result"
    }
   ],
   "source": [
    "data.isnull().sum().sum()"
   ]
  },
  {
   "cell_type": "code",
   "execution_count": 49,
   "id": "f620c483",
   "metadata": {},
   "outputs": [
    {
     "data": {
      "text/plain": [
       "Index(['age', 'sex', 'bmi', 'children', 'smoker', 'Claim_Amount',\n",
       "       'past_consultations', 'num_of_steps', 'Hospital_expenditure',\n",
       "       'NUmber_of_past_hospitalizations', 'Anual_Salary', 'region', 'charges'],\n",
       "      dtype='object')"
      ]
     },
     "execution_count": 49,
     "metadata": {},
     "output_type": "execute_result"
    }
   ],
   "source": [
    "col = data.columns\n",
    "col"
   ]
  },
  {
   "cell_type": "code",
   "execution_count": 50,
   "id": "8bf49318",
   "metadata": {},
   "outputs": [],
   "source": [
    "for column in col:\n",
    "    if data[column].dtypes == \"object\" :\n",
    "        data[column]= data[column].fillna(data[column].mode()[0])\n",
    "    else:\n",
    "        data[column]= data[column].fillna(data[column].mean())"
   ]
  },
  {
   "cell_type": "code",
   "execution_count": 51,
   "id": "a12b85e5",
   "metadata": {},
   "outputs": [
    {
     "data": {
      "text/plain": [
       "age                                0\n",
       "sex                                0\n",
       "bmi                                0\n",
       "children                           0\n",
       "smoker                             0\n",
       "Claim_Amount                       0\n",
       "past_consultations                 0\n",
       "num_of_steps                       0\n",
       "Hospital_expenditure               0\n",
       "NUmber_of_past_hospitalizations    0\n",
       "Anual_Salary                       0\n",
       "region                             0\n",
       "charges                            0\n",
       "dtype: int64"
      ]
     },
     "execution_count": 51,
     "metadata": {},
     "output_type": "execute_result"
    }
   ],
   "source": [
    "data.isnull().sum()"
   ]
  },
  {
   "cell_type": "code",
   "execution_count": null,
   "id": "82bb2683",
   "metadata": {},
   "outputs": [],
   "source": []
  },
  {
   "cell_type": "code",
   "execution_count": null,
   "id": "29bb813f",
   "metadata": {},
   "outputs": [],
   "source": []
  },
  {
   "cell_type": "code",
   "execution_count": 52,
   "id": "545167d2",
   "metadata": {},
   "outputs": [
    {
     "data": {
      "image/png": "[encoded data removed]",
      "text/plain": [
       "<Figure size 640x480 with 1 Axes>"
      ]
     },
     "metadata": {},
     "output_type": "display_data"
    },
    {
     "data": {
      "image/png": "[encoded data removed]",
      "text/plain": [
       "<Figure size 640x480 with 1 Axes>"
      ]
     },
     "metadata": {},
     "output_type": "display_data"
    },
    {
     "data": {
      "image/png": "[encoded data removed]",
      "text/plain": [
       "<Figure size 640x480 with 1 Axes>"
      ]
     },
     "metadata": {},
     "output_type": "display_data"
    },
    {
     "data": {
      "image/png": "[encoded data removed]",
      "text/plain": [
       "<Figure size 640x480 with 1 Axes>"
      ]
     },
     "metadata": {},
     "output_type": "display_data"
    },
    {
     "data": {
      "image/png": "[encoded data removed]",
      "text/plain": [
       "<Figure size 640x480 with 1 Axes>"
      ]
     },
     "metadata": {},
     "output_type": "display_data"
    },
    {
     "data": {
      "image/png": "[encoded data removed]",
      "text/plain": [
       "<Figure size 640x480 with 1 Axes>"
      ]
     },
     "metadata": {},
     "output_type": "display_data"
    },
    {
     "data": {
      "image/png": "[encoded data removed]",
      "text/plain": [
       "<Figure size 640x480 with 1 Axes>"
      ]
     },
     "metadata": {},
     "output_type": "display_data"
    },
    {
     "data": {
      "image/png": "[encoded data removed]",
      "text/plain": [
       "<Figure size 640x480 with 1 Axes>"
      ]
     },
     "metadata": {},
     "output_type": "display_data"
    },
    {
     "data": {
      "image/png": "[encoded data removed]",
      "text/plain": [
       "<Figure size 640x480 with 1 Axes>"
      ]
     },
     "metadata": {},
     "output_type": "display_data"
    },
    {
     "data": {
      "image/png": "[encoded data removed]",
      "text/plain": [
       "<Figure size 640x480 with 1 Axes>"
      ]
     },
     "metadata": {},
     "output_type": "display_data"
    }
   ],
   "source": [
    "for col_name in col:\n",
    "    if (data[col_name].dtypes == \"int64\" or data[col_name].dtypes== \"float64\"):\n",
    "        sns.boxplot(data[col_name])\n",
    "        plt.xlabel(col_name)\n",
    "        plt.ylabel(\"count\")\n",
    "        plt.show()"
   ]
  },
  {
   "cell_type": "code",
   "execution_count": 53,
   "id": "c71924d4",
   "metadata": {},
   "outputs": [],
   "source": [
    "out_col = [\"bmi\",\"past_consultations\", \"Hospital_expenditure\", \"Anual_Salary\"]\n",
    "\n",
    "for column in out_col:\n",
    "    Q1 = data[column].quantile(0.25)\n",
    "    Q3 = data[column].quantile(0.75)\n",
    "    IQR = Q3 - Q1\n",
    "    data = data[(data[column] >= Q1 - 1.5*IQR) & (data[column] <= Q3 + 1.5*IQR)]\n"
   ]
  },
  {
   "cell_type": "code",
   "execution_count": 54,
   "id": "abd93528",
   "metadata": {},
   "outputs": [
    {
     "data": {
      "text/plain": [
       "(1030, 13)"
      ]
     },
     "execution_count": 54,
     "metadata": {},
     "output_type": "execute_result"
    }
   ],
   "source": [
    "data.shape"
   ]
  },
  {
   "cell_type": "code",
   "execution_count": 55,
   "id": "ef4ceab3",
   "metadata": {},
   "outputs": [
    {
     "data": {
      "text/html": [
       "<div>\n",
       "<style scoped>\n",
       "    .dataframe tbody tr th:only-of-type {\n",
       "        vertical-align: middle;\n",
       "    }\n",
       "\n",
       "    .dataframe tbody tr th {\n",
       "        vertical-align: top;\n",
       "    }\n",
       "\n",
       "    .dataframe thead th {\n",
       "        text-align: right;\n",
       "    }\n",
       "</style>\n",
       "<table border=\"1\" class=\"dataframe\">\n",
       "  <thead>\n",
       "    <tr style=\"text-align: right;\">\n",
       "      <th></th>\n",
       "      <th>age</th>\n",
       "      <th>bmi</th>\n",
       "      <th>children</th>\n",
       "      <th>Claim_Amount</th>\n",
       "      <th>past_consultations</th>\n",
       "      <th>num_of_steps</th>\n",
       "      <th>Hospital_expenditure</th>\n",
       "      <th>NUmber_of_past_hospitalizations</th>\n",
       "      <th>Anual_Salary</th>\n",
       "      <th>charges</th>\n",
       "    </tr>\n",
       "  </thead>\n",
       "  <tbody>\n",
       "    <tr>\n",
       "      <th>count</th>\n",
       "      <td>1030.000000</td>\n",
       "      <td>1030.000000</td>\n",
       "      <td>1030.000000</td>\n",
       "      <td>1030.000000</td>\n",
       "      <td>1030.000000</td>\n",
       "      <td>1030.000000</td>\n",
       "      <td>1.030000e+03</td>\n",
       "      <td>1030.000000</td>\n",
       "      <td>1.030000e+03</td>\n",
       "      <td>1030.000000</td>\n",
       "    </tr>\n",
       "    <tr>\n",
       "      <th>mean</th>\n",
       "      <td>38.643486</td>\n",
       "      <td>30.228884</td>\n",
       "      <td>1.066460</td>\n",
       "      <td>30267.786546</td>\n",
       "      <td>12.988428</td>\n",
       "      <td>873923.917561</td>\n",
       "      <td>5.990933e+06</td>\n",
       "      <td>0.856370</td>\n",
       "      <td>1.268518e+08</td>\n",
       "      <td>7653.996666</td>\n",
       "    </tr>\n",
       "    <tr>\n",
       "      <th>std</th>\n",
       "      <td>14.012418</td>\n",
       "      <td>5.987034</td>\n",
       "      <td>1.213582</td>\n",
       "      <td>14319.311327</td>\n",
       "      <td>5.957366</td>\n",
       "      <td>68958.498886</td>\n",
       "      <td>3.220088e+06</td>\n",
       "      <td>0.350974</td>\n",
       "      <td>8.195598e+07</td>\n",
       "      <td>4399.239848</td>\n",
       "    </tr>\n",
       "    <tr>\n",
       "      <th>min</th>\n",
       "      <td>18.000000</td>\n",
       "      <td>15.960000</td>\n",
       "      <td>0.000000</td>\n",
       "      <td>1920.136268</td>\n",
       "      <td>1.000000</td>\n",
       "      <td>695430.000000</td>\n",
       "      <td>2.945253e+04</td>\n",
       "      <td>0.000000</td>\n",
       "      <td>2.747072e+06</td>\n",
       "      <td>1121.873900</td>\n",
       "    </tr>\n",
       "    <tr>\n",
       "      <th>25%</th>\n",
       "      <td>26.000000</td>\n",
       "      <td>25.908750</td>\n",
       "      <td>0.000000</td>\n",
       "      <td>18001.007272</td>\n",
       "      <td>8.000000</td>\n",
       "      <td>827907.000000</td>\n",
       "      <td>3.316228e+06</td>\n",
       "      <td>1.000000</td>\n",
       "      <td>6.634997e+07</td>\n",
       "      <td>3928.113625</td>\n",
       "    </tr>\n",
       "    <tr>\n",
       "      <th>50%</th>\n",
       "      <td>38.500000</td>\n",
       "      <td>29.962500</td>\n",
       "      <td>1.000000</td>\n",
       "      <td>30819.743115</td>\n",
       "      <td>13.000000</td>\n",
       "      <td>886888.500000</td>\n",
       "      <td>6.012943e+06</td>\n",
       "      <td>1.000000</td>\n",
       "      <td>1.081183e+08</td>\n",
       "      <td>7167.686075</td>\n",
       "    </tr>\n",
       "    <tr>\n",
       "      <th>75%</th>\n",
       "      <td>51.000000</td>\n",
       "      <td>34.100000</td>\n",
       "      <td>2.000000</td>\n",
       "      <td>42058.656820</td>\n",
       "      <td>18.000000</td>\n",
       "      <td>930435.750000</td>\n",
       "      <td>8.496163e+06</td>\n",
       "      <td>1.000000</td>\n",
       "      <td>1.738031e+08</td>\n",
       "      <td>11080.226900</td>\n",
       "    </tr>\n",
       "    <tr>\n",
       "      <th>max</th>\n",
       "      <td>64.000000</td>\n",
       "      <td>46.750000</td>\n",
       "      <td>5.000000</td>\n",
       "      <td>60712.925340</td>\n",
       "      <td>27.000000</td>\n",
       "      <td>994419.000000</td>\n",
       "      <td>1.665982e+07</td>\n",
       "      <td>1.060629</td>\n",
       "      <td>3.829703e+08</td>\n",
       "      <td>20234.854750</td>\n",
       "    </tr>\n",
       "  </tbody>\n",
       "</table>\n",
       "</div>"
      ],
      "text/plain": [
       "               age          bmi     children  Claim_Amount  \\\n",
       "count  1030.000000  1030.000000  1030.000000   1030.000000   \n",
       "mean     38.643486    30.228884     1.066460  30267.786546   \n",
       "std      14.012418     5.987034     1.213582  14319.311327   \n",
       "min      18.000000    15.960000     0.000000   1920.136268   \n",
       "25%      26.000000    25.908750     0.000000  18001.007272   \n",
       "50%      38.500000    29.962500     1.000000  30819.743115   \n",
       "75%      51.000000    34.100000     2.000000  42058.656820   \n",
       "max      64.000000    46.750000     5.000000  60712.925340   \n",
       "\n",
       "       past_consultations   num_of_steps  Hospital_expenditure  \\\n",
       "count         1030.000000    1030.000000          1.030000e+03   \n",
       "mean            12.988428  873923.917561          5.990933e+06   \n",
       "std              5.957366   68958.498886          3.220088e+06   \n",
       "min              1.000000  695430.000000          2.945253e+04   \n",
       "25%              8.000000  827907.000000          3.316228e+06   \n",
       "50%             13.000000  886888.500000          6.012943e+06   \n",
       "75%             18.000000  930435.750000          8.496163e+06   \n",
       "max             27.000000  994419.000000          1.665982e+07   \n",
       "\n",
       "       NUmber_of_past_hospitalizations  Anual_Salary       charges  \n",
       "count                      1030.000000  1.030000e+03   1030.000000  \n",
       "mean                          0.856370  1.268518e+08   7653.996666  \n",
       "std                           0.350974  8.195598e+07   4399.239848  \n",
       "min                           0.000000  2.747072e+06   1121.873900  \n",
       "25%                           1.000000  6.634997e+07   3928.113625  \n",
       "50%                           1.000000  1.081183e+08   7167.686075  \n",
       "75%                           1.000000  1.738031e+08  11080.226900  \n",
       "max                           1.060629  3.829703e+08  20234.854750  "
      ]
     },
     "execution_count": 55,
     "metadata": {},
     "output_type": "execute_result"
    }
   ],
   "source": [
    "data.describe()"
   ]
  },
  {
   "cell_type": "code",
   "execution_count": null,
   "id": "25ee83e8",
   "metadata": {},
   "outputs": [],
   "source": []
  },
  {
   "cell_type": "code",
   "execution_count": 56,
   "id": "6b2fe0a3",
   "metadata": {},
   "outputs": [
    {
     "data": {
      "image/png": "[encoded data removed]",
      "text/plain": [
       "<Figure size 640x480 with 1 Axes>"
      ]
     },
     "metadata": {},
     "output_type": "display_data"
    },
    {
     "data": {
      "image/png": "[encoded data removed]",
      "text/plain": [
       "<Figure size 640x480 with 1 Axes>"
      ]
     },
     "metadata": {},
     "output_type": "display_data"
    },
    {
     "data": {
      "image/png": "[encoded data removed]",
      "text/plain": [
       "<Figure size 640x480 with 1 Axes>"
      ]
     },
     "metadata": {},
     "output_type": "display_data"
    },
    {
     "data": {
      "image/png": "[encoded data removed]",
      "text/plain": [
       "<Figure size 640x480 with 1 Axes>"
      ]
     },
     "metadata": {},
     "output_type": "display_data"
    },
    {
     "data": {
      "image/png": "[encoded data removed]",
      "text/plain": [
       "<Figure size 640x480 with 1 Axes>"
      ]
     },
     "metadata": {},
     "output_type": "display_data"
    },
    {
     "data": {
      "image/png": "[encoded data removed]",
      "text/plain": [
       "<Figure size 640x480 with 1 Axes>"
      ]
     },
     "metadata": {},
     "output_type": "display_data"
    },
    {
     "data": {
      "image/png": "[encoded data removed]",
      "text/plain": [
       "<Figure size 640x480 with 1 Axes>"
      ]
     },
     "metadata": {},
     "output_type": "display_data"
    },
    {
     "data": {
      "image/png": "[encoded data removed]",
      "text/plain": [
       "<Figure size 640x480 with 1 Axes>"
      ]
     },
     "metadata": {},
     "output_type": "display_data"
    },
    {
     "data": {
      "image/png": "[encoded data removed]",
      "text/plain": [
       "<Figure size 640x480 with 1 Axes>"
      ]
     },
     "metadata": {},
     "output_type": "display_data"
    },
    {
     "data": {
      "image/png": "[encoded data removed]",
      "text/plain": [
       "<Figure size 640x480 with 1 Axes>"
      ]
     },
     "metadata": {},
     "output_type": "display_data"
    }
   ],
   "source": [
    "for col_name in col:\n",
    "    if(data[col_name].dtypes=='int64' or data[col_name].dtypes=='float64'):\n",
    "        plt.boxplot(data[col_name])\n",
    "        plt.xlabel(col_name)\n",
    "        plt.ylabel('count')\n",
    "        plt.show()"
   ]
  },
  {
   "cell_type": "code",
   "execution_count": null,
   "id": "7facaa6d",
   "metadata": {},
   "outputs": [],
   "source": []
  },
  {
   "cell_type": "code",
   "execution_count": 57,
   "id": "32ace481",
   "metadata": {},
   "outputs": [
    {
     "data": {
      "text/html": [
       "<div>\n",
       "<style scoped>\n",
       "    .dataframe tbody tr th:only-of-type {\n",
       "        vertical-align: middle;\n",
       "    }\n",
       "\n",
       "    .dataframe tbody tr th {\n",
       "        vertical-align: top;\n",
       "    }\n",
       "\n",
       "    .dataframe thead th {\n",
       "        text-align: right;\n",
       "    }\n",
       "</style>\n",
       "<table border=\"1\" class=\"dataframe\">\n",
       "  <thead>\n",
       "    <tr style=\"text-align: right;\">\n",
       "      <th></th>\n",
       "      <th>age</th>\n",
       "      <th>sex</th>\n",
       "      <th>bmi</th>\n",
       "      <th>children</th>\n",
       "      <th>smoker</th>\n",
       "      <th>Claim_Amount</th>\n",
       "      <th>past_consultations</th>\n",
       "      <th>num_of_steps</th>\n",
       "      <th>Hospital_expenditure</th>\n",
       "      <th>NUmber_of_past_hospitalizations</th>\n",
       "      <th>Anual_Salary</th>\n",
       "      <th>region</th>\n",
       "      <th>charges</th>\n",
       "    </tr>\n",
       "  </thead>\n",
       "  <tbody>\n",
       "    <tr>\n",
       "      <th>0</th>\n",
       "      <td>18.0</td>\n",
       "      <td>male</td>\n",
       "      <td>23.210</td>\n",
       "      <td>0.0</td>\n",
       "      <td>no</td>\n",
       "      <td>29087.54313</td>\n",
       "      <td>17.0</td>\n",
       "      <td>715428.0</td>\n",
       "      <td>4.720921e+06</td>\n",
       "      <td>0.0</td>\n",
       "      <td>5.578497e+07</td>\n",
       "      <td>southeast</td>\n",
       "      <td>1121.87390</td>\n",
       "    </tr>\n",
       "    <tr>\n",
       "      <th>1</th>\n",
       "      <td>18.0</td>\n",
       "      <td>male</td>\n",
       "      <td>30.140</td>\n",
       "      <td>0.0</td>\n",
       "      <td>no</td>\n",
       "      <td>39053.67437</td>\n",
       "      <td>7.0</td>\n",
       "      <td>699157.0</td>\n",
       "      <td>4.329832e+06</td>\n",
       "      <td>0.0</td>\n",
       "      <td>1.370089e+07</td>\n",
       "      <td>southeast</td>\n",
       "      <td>1131.50660</td>\n",
       "    </tr>\n",
       "    <tr>\n",
       "      <th>2</th>\n",
       "      <td>18.0</td>\n",
       "      <td>male</td>\n",
       "      <td>33.330</td>\n",
       "      <td>0.0</td>\n",
       "      <td>no</td>\n",
       "      <td>39023.62759</td>\n",
       "      <td>19.0</td>\n",
       "      <td>702341.0</td>\n",
       "      <td>6.884861e+06</td>\n",
       "      <td>0.0</td>\n",
       "      <td>7.352311e+07</td>\n",
       "      <td>southeast</td>\n",
       "      <td>1135.94070</td>\n",
       "    </tr>\n",
       "    <tr>\n",
       "      <th>3</th>\n",
       "      <td>18.0</td>\n",
       "      <td>male</td>\n",
       "      <td>33.660</td>\n",
       "      <td>0.0</td>\n",
       "      <td>no</td>\n",
       "      <td>28185.39332</td>\n",
       "      <td>11.0</td>\n",
       "      <td>700250.0</td>\n",
       "      <td>4.274774e+06</td>\n",
       "      <td>0.0</td>\n",
       "      <td>7.581968e+07</td>\n",
       "      <td>southeast</td>\n",
       "      <td>1136.39940</td>\n",
       "    </tr>\n",
       "    <tr>\n",
       "      <th>4</th>\n",
       "      <td>18.0</td>\n",
       "      <td>male</td>\n",
       "      <td>34.100</td>\n",
       "      <td>0.0</td>\n",
       "      <td>no</td>\n",
       "      <td>14697.85941</td>\n",
       "      <td>16.0</td>\n",
       "      <td>711584.0</td>\n",
       "      <td>3.787294e+06</td>\n",
       "      <td>0.0</td>\n",
       "      <td>2.301232e+07</td>\n",
       "      <td>southeast</td>\n",
       "      <td>1137.01100</td>\n",
       "    </tr>\n",
       "    <tr>\n",
       "      <th>...</th>\n",
       "      <td>...</td>\n",
       "      <td>...</td>\n",
       "      <td>...</td>\n",
       "      <td>...</td>\n",
       "      <td>...</td>\n",
       "      <td>...</td>\n",
       "      <td>...</td>\n",
       "      <td>...</td>\n",
       "      <td>...</td>\n",
       "      <td>...</td>\n",
       "      <td>...</td>\n",
       "      <td>...</td>\n",
       "      <td>...</td>\n",
       "    </tr>\n",
       "    <tr>\n",
       "      <th>1046</th>\n",
       "      <td>29.0</td>\n",
       "      <td>female</td>\n",
       "      <td>27.940</td>\n",
       "      <td>1.0</td>\n",
       "      <td>yes</td>\n",
       "      <td>51168.25474</td>\n",
       "      <td>23.0</td>\n",
       "      <td>993751.0</td>\n",
       "      <td>1.665982e+07</td>\n",
       "      <td>1.0</td>\n",
       "      <td>3.712188e+08</td>\n",
       "      <td>southeast</td>\n",
       "      <td>19107.77960</td>\n",
       "    </tr>\n",
       "    <tr>\n",
       "      <th>1048</th>\n",
       "      <td>31.0</td>\n",
       "      <td>male</td>\n",
       "      <td>25.900</td>\n",
       "      <td>3.0</td>\n",
       "      <td>yes</td>\n",
       "      <td>46619.40230</td>\n",
       "      <td>27.0</td>\n",
       "      <td>989387.0</td>\n",
       "      <td>1.361938e+07</td>\n",
       "      <td>1.0</td>\n",
       "      <td>3.812895e+08</td>\n",
       "      <td>southwest</td>\n",
       "      <td>19199.94400</td>\n",
       "    </tr>\n",
       "    <tr>\n",
       "      <th>1050</th>\n",
       "      <td>31.0</td>\n",
       "      <td>male</td>\n",
       "      <td>29.810</td>\n",
       "      <td>0.0</td>\n",
       "      <td>yes</td>\n",
       "      <td>24382.58056</td>\n",
       "      <td>21.0</td>\n",
       "      <td>973924.0</td>\n",
       "      <td>1.028991e+07</td>\n",
       "      <td>1.0</td>\n",
       "      <td>3.745310e+08</td>\n",
       "      <td>southeast</td>\n",
       "      <td>19350.36890</td>\n",
       "    </tr>\n",
       "    <tr>\n",
       "      <th>1062</th>\n",
       "      <td>43.0</td>\n",
       "      <td>female</td>\n",
       "      <td>20.045</td>\n",
       "      <td>2.0</td>\n",
       "      <td>yes</td>\n",
       "      <td>21596.43846</td>\n",
       "      <td>10.0</td>\n",
       "      <td>994419.0</td>\n",
       "      <td>1.083030e+07</td>\n",
       "      <td>1.0</td>\n",
       "      <td>3.696849e+08</td>\n",
       "      <td>northeast</td>\n",
       "      <td>19798.05455</td>\n",
       "    </tr>\n",
       "    <tr>\n",
       "      <th>1069</th>\n",
       "      <td>35.0</td>\n",
       "      <td>female</td>\n",
       "      <td>28.025</td>\n",
       "      <td>0.0</td>\n",
       "      <td>yes</td>\n",
       "      <td>17200.14586</td>\n",
       "      <td>15.0</td>\n",
       "      <td>993979.0</td>\n",
       "      <td>1.247744e+07</td>\n",
       "      <td>1.0</td>\n",
       "      <td>3.696849e+08</td>\n",
       "      <td>northwest</td>\n",
       "      <td>20234.85475</td>\n",
       "    </tr>\n",
       "  </tbody>\n",
       "</table>\n",
       "<p>1030 rows × 13 columns</p>\n",
       "</div>"
      ],
      "text/plain": [
       "       age     sex     bmi  children smoker  Claim_Amount  past_consultations  \\\n",
       "0     18.0    male  23.210       0.0     no   29087.54313                17.0   \n",
       "1     18.0    male  30.140       0.0     no   39053.67437                 7.0   \n",
       "2     18.0    male  33.330       0.0     no   39023.62759                19.0   \n",
       "3     18.0    male  33.660       0.0     no   28185.39332                11.0   \n",
       "4     18.0    male  34.100       0.0     no   14697.85941                16.0   \n",
       "...    ...     ...     ...       ...    ...           ...                 ...   \n",
       "1046  29.0  female  27.940       1.0    yes   51168.25474                23.0   \n",
       "1048  31.0    male  25.900       3.0    yes   46619.40230                27.0   \n",
       "1050  31.0    male  29.810       0.0    yes   24382.58056                21.0   \n",
       "1062  43.0  female  20.045       2.0    yes   21596.43846                10.0   \n",
       "1069  35.0  female  28.025       0.0    yes   17200.14586                15.0   \n",
       "\n",
       "      num_of_steps  Hospital_expenditure  NUmber_of_past_hospitalizations  \\\n",
       "0         715428.0          4.720921e+06                              0.0   \n",
       "1         699157.0          4.329832e+06                              0.0   \n",
       "2         702341.0          6.884861e+06                              0.0   \n",
       "3         700250.0          4.274774e+06                              0.0   \n",
       "4         711584.0          3.787294e+06                              0.0   \n",
       "...            ...                   ...                              ...   \n",
       "1046      993751.0          1.665982e+07                              1.0   \n",
       "1048      989387.0          1.361938e+07                              1.0   \n",
       "1050      973924.0          1.028991e+07                              1.0   \n",
       "1062      994419.0          1.083030e+07                              1.0   \n",
       "1069      993979.0          1.247744e+07                              1.0   \n",
       "\n",
       "      Anual_Salary     region      charges  \n",
       "0     5.578497e+07  southeast   1121.87390  \n",
       "1     1.370089e+07  southeast   1131.50660  \n",
       "2     7.352311e+07  southeast   1135.94070  \n",
       "3     7.581968e+07  southeast   1136.39940  \n",
       "4     2.301232e+07  southeast   1137.01100  \n",
       "...            ...        ...          ...  \n",
       "1046  3.712188e+08  southeast  19107.77960  \n",
       "1048  3.812895e+08  southwest  19199.94400  \n",
       "1050  3.745310e+08  southeast  19350.36890  \n",
       "1062  3.696849e+08  northeast  19798.05455  \n",
       "1069  3.696849e+08  northwest  20234.85475  \n",
       "\n",
       "[1030 rows x 13 columns]"
      ]
     },
     "execution_count": 57,
     "metadata": {},
     "output_type": "execute_result"
    }
   ],
   "source": [
    "data"
   ]
  },
  {
   "cell_type": "code",
   "execution_count": 58,
   "id": "19ab0444",
   "metadata": {},
   "outputs": [
    {
     "data": {
      "text/plain": [
       "Index(['age', 'sex', 'bmi', 'children', 'smoker', 'Claim_Amount',\n",
       "       'past_consultations', 'num_of_steps', 'Hospital_expenditure',\n",
       "       'NUmber_of_past_hospitalizations', 'Anual_Salary', 'region', 'charges'],\n",
       "      dtype='object')"
      ]
     },
     "execution_count": 58,
     "metadata": {},
     "output_type": "execute_result"
    }
   ],
   "source": [
    "col"
   ]
  },
  {
   "cell_type": "code",
   "execution_count": 59,
   "id": "0cab17d9",
   "metadata": {},
   "outputs": [
    {
     "data": {
      "text/plain": [
       "(1030, 13)"
      ]
     },
     "execution_count": 59,
     "metadata": {},
     "output_type": "execute_result"
    }
   ],
   "source": [
    "data.shape"
   ]
  },
  {
   "cell_type": "code",
   "execution_count": 60,
   "id": "cb7f21a1",
   "metadata": {},
   "outputs": [],
   "source": [
    "from sklearn.linear_model import LinearRegression\n",
    "from sklearn.model_selection import train_test_split"
   ]
  },
  {
   "cell_type": "code",
   "execution_count": 61,
   "id": "b711cfd8",
   "metadata": {},
   "outputs": [],
   "source": [
    "from statsmodels.stats.outliers_influence import variance_inflation_factor"
   ]
  },
  {
   "cell_type": "code",
   "execution_count": 62,
   "id": "b8a21f33",
   "metadata": {},
   "outputs": [
    {
     "data": {
      "text/plain": [
       "Index(['age', 'sex', 'bmi', 'children', 'smoker', 'Claim_Amount',\n",
       "       'past_consultations', 'num_of_steps', 'Hospital_expenditure',\n",
       "       'NUmber_of_past_hospitalizations', 'Anual_Salary', 'region', 'charges'],\n",
       "      dtype='object')"
      ]
     },
     "execution_count": 62,
     "metadata": {},
     "output_type": "execute_result"
    }
   ],
   "source": [
    "col"
   ]
  },
  {
   "cell_type": "code",
   "execution_count": 63,
   "id": "7c96c043",
   "metadata": {},
   "outputs": [],
   "source": [
    "my_col = []\n",
    "for column in col:\n",
    "    if ((data[column].dtype != \"object\") & (column != \"charges\" )):\n",
    "        my_col.append(column)"
   ]
  },
  {
   "cell_type": "code",
   "execution_count": 64,
   "id": "667ea7e9",
   "metadata": {},
   "outputs": [
    {
     "data": {
      "text/plain": [
       "['age',\n",
       " 'bmi',\n",
       " 'children',\n",
       " 'Claim_Amount',\n",
       " 'past_consultations',\n",
       " 'num_of_steps',\n",
       " 'Hospital_expenditure',\n",
       " 'NUmber_of_past_hospitalizations',\n",
       " 'Anual_Salary']"
      ]
     },
     "execution_count": 64,
     "metadata": {},
     "output_type": "execute_result"
    }
   ],
   "source": [
    "my_col"
   ]
  },
  {
   "cell_type": "code",
   "execution_count": 68,
   "id": "4e351aad",
   "metadata": {},
   "outputs": [],
   "source": [
    "from statsmodels.stats.outliers_influence import variance_inflation_factor\n",
    "my_col = []\n",
    "for column in data.columns:\n",
    "    if ((data[column].dtype != \"object\") & (column != \"charges\" )):\n",
    "        my_col.append(column)\n",
    "        \n",
    "x = data[my_col]\n",
    "vif_data = pd.DataFrame()\n",
    "vif_data[\"feature\"] = x.columns\n",
    "vif_data[\"VIF\"] = [variance_inflation_factor(x.values,i) for i in range(len(x.columns))]"
   ]
  },
  {
   "cell_type": "code",
   "execution_count": 69,
   "id": "144a6d0d",
   "metadata": {},
   "outputs": [
    {
     "data": {
      "text/html": [
       "<div>\n",
       "<style scoped>\n",
       "    .dataframe tbody tr th:only-of-type {\n",
       "        vertical-align: middle;\n",
       "    }\n",
       "\n",
       "    .dataframe tbody tr th {\n",
       "        vertical-align: top;\n",
       "    }\n",
       "\n",
       "    .dataframe thead th {\n",
       "        text-align: right;\n",
       "    }\n",
       "</style>\n",
       "<table border=\"1\" class=\"dataframe\">\n",
       "  <thead>\n",
       "    <tr style=\"text-align: right;\">\n",
       "      <th></th>\n",
       "      <th>feature</th>\n",
       "      <th>VIF</th>\n",
       "    </tr>\n",
       "  </thead>\n",
       "  <tbody>\n",
       "    <tr>\n",
       "      <th>0</th>\n",
       "      <td>age</td>\n",
       "      <td>15.452095</td>\n",
       "    </tr>\n",
       "    <tr>\n",
       "      <th>1</th>\n",
       "      <td>bmi</td>\n",
       "      <td>26.330788</td>\n",
       "    </tr>\n",
       "    <tr>\n",
       "      <th>2</th>\n",
       "      <td>children</td>\n",
       "      <td>2.029618</td>\n",
       "    </tr>\n",
       "    <tr>\n",
       "      <th>3</th>\n",
       "      <td>Claim_Amount</td>\n",
       "      <td>5.678660</td>\n",
       "    </tr>\n",
       "    <tr>\n",
       "      <th>4</th>\n",
       "      <td>past_consultations</td>\n",
       "      <td>6.258017</td>\n",
       "    </tr>\n",
       "    <tr>\n",
       "      <th>5</th>\n",
       "      <td>num_of_steps</td>\n",
       "      <td>61.574692</td>\n",
       "    </tr>\n",
       "    <tr>\n",
       "      <th>6</th>\n",
       "      <td>Hospital_expenditure</td>\n",
       "      <td>5.204376</td>\n",
       "    </tr>\n",
       "    <tr>\n",
       "      <th>7</th>\n",
       "      <td>NUmber_of_past_hospitalizations</td>\n",
       "      <td>12.052060</td>\n",
       "    </tr>\n",
       "    <tr>\n",
       "      <th>8</th>\n",
       "      <td>Anual_Salary</td>\n",
       "      <td>5.481823</td>\n",
       "    </tr>\n",
       "  </tbody>\n",
       "</table>\n",
       "</div>"
      ],
      "text/plain": [
       "                           feature        VIF\n",
       "0                              age  15.452095\n",
       "1                              bmi  26.330788\n",
       "2                         children   2.029618\n",
       "3                     Claim_Amount   5.678660\n",
       "4               past_consultations   6.258017\n",
       "5                     num_of_steps  61.574692\n",
       "6             Hospital_expenditure   5.204376\n",
       "7  NUmber_of_past_hospitalizations  12.052060\n",
       "8                     Anual_Salary   5.481823"
      ]
     },
     "execution_count": 69,
     "metadata": {},
     "output_type": "execute_result"
    }
   ],
   "source": [
    "vif_data"
   ]
  },
  {
   "cell_type": "code",
   "execution_count": 70,
   "id": "1022d1d9",
   "metadata": {},
   "outputs": [
    {
     "data": {
      "text/plain": [
       "9"
      ]
     },
     "execution_count": 70,
     "metadata": {},
     "output_type": "execute_result"
    }
   ],
   "source": [
    "len(x.columns)"
   ]
  },
  {
   "cell_type": "code",
   "execution_count": 71,
   "id": "9fa8205d",
   "metadata": {},
   "outputs": [],
   "source": [
    "data = data.drop([\"num_of_steps\"],axis=1)"
   ]
  },
  {
   "cell_type": "code",
   "execution_count": 72,
   "id": "ce67c51a",
   "metadata": {},
   "outputs": [
    {
     "name": "stdout",
     "output_type": "stream",
     "text": [
      "                           feature        vif\n",
      "0                              age  14.484893\n",
      "1                              bmi  12.261123\n",
      "2                         children   2.017441\n",
      "3                     Claim_Amount   5.243640\n",
      "4               past_consultations   5.842169\n",
      "5             Hospital_expenditure   4.929952\n",
      "6  NUmber_of_past_hospitalizations  10.687768\n",
      "7                     Anual_Salary   5.380679\n"
     ]
    }
   ],
   "source": [
    "my_col=[]\n",
    "for column in data.columns:\n",
    "    if ((data[column].dtypes!=\"object\") & (column!=\"charges\")):\n",
    "        my_col.append(column)\n",
    "        \n",
    "x = data[my_col]\n",
    "vif_data= pd.DataFrame()\n",
    "vif_data[\"feature\"] = x.columns\n",
    "vif_data[\"vif\"] = [variance_inflation_factor(x.values,i) for i in range(len(x.columns))]\n",
    "print(vif_data)"
   ]
  },
  {
   "cell_type": "code",
   "execution_count": 73,
   "id": "9d0c0a88",
   "metadata": {},
   "outputs": [
    {
     "data": {
      "text/plain": [
       "8"
      ]
     },
     "execution_count": 73,
     "metadata": {},
     "output_type": "execute_result"
    }
   ],
   "source": [
    "len(x.columns)"
   ]
  },
  {
   "cell_type": "code",
   "execution_count": 74,
   "id": "54270611",
   "metadata": {},
   "outputs": [
    {
     "data": {
      "text/plain": [
       "['age',\n",
       " 'bmi',\n",
       " 'children',\n",
       " 'Claim_Amount',\n",
       " 'past_consultations',\n",
       " 'Hospital_expenditure',\n",
       " 'NUmber_of_past_hospitalizations',\n",
       " 'Anual_Salary']"
      ]
     },
     "execution_count": 74,
     "metadata": {},
     "output_type": "execute_result"
    }
   ],
   "source": [
    "my_col"
   ]
  },
  {
   "cell_type": "code",
   "execution_count": 75,
   "id": "0d8cbb09",
   "metadata": {},
   "outputs": [],
   "source": [
    "data = data.drop(\"age\",axis=1)"
   ]
  },
  {
   "cell_type": "code",
   "execution_count": 76,
   "id": "613a276e",
   "metadata": {},
   "outputs": [
    {
     "name": "stdout",
     "output_type": "stream",
     "text": [
      "                           feature        vif\n",
      "0                              bmi  10.323093\n",
      "1                         children   1.978843\n",
      "2                     Claim_Amount   5.228284\n",
      "3               past_consultations   5.821933\n",
      "4             Hospital_expenditure   4.929287\n",
      "5  NUmber_of_past_hospitalizations   8.310570\n",
      "6                     Anual_Salary   4.723495\n"
     ]
    }
   ],
   "source": [
    "my_col=[]\n",
    "for column in data.columns:\n",
    "    if ((data[column].dtypes!=\"object\") & (column!=\"charges\")):\n",
    "        my_col.append(column)\n",
    "        \n",
    "x = data[my_col]\n",
    "vif_data= pd.DataFrame()\n",
    "vif_data[\"feature\"] = x.columns\n",
    "vif_data[\"vif\"] = [variance_inflation_factor(x.values,i) for i in range(len(x.columns))]\n",
    "print(vif_data)"
   ]
  },
  {
   "cell_type": "code",
   "execution_count": 77,
   "id": "0d43a75d",
   "metadata": {},
   "outputs": [],
   "source": [
    "data = data.drop(\"bmi\",axis=1)"
   ]
  },
  {
   "cell_type": "code",
   "execution_count": 78,
   "id": "68f1b923",
   "metadata": {},
   "outputs": [
    {
     "name": "stdout",
     "output_type": "stream",
     "text": [
      "                           feature       vif\n",
      "0                         children  1.977037\n",
      "1                     Claim_Amount  4.547332\n",
      "2               past_consultations  5.049165\n",
      "3             Hospital_expenditure  4.492630\n",
      "4  NUmber_of_past_hospitalizations  7.245972\n",
      "5                     Anual_Salary  4.688833\n"
     ]
    }
   ],
   "source": [
    "my_col=[]\n",
    "for column in data.columns:\n",
    "    if ((data[column].dtypes!=\"object\") & (column!=\"charges\")):\n",
    "        my_col.append(column)\n",
    "        \n",
    "x = data[my_col]\n",
    "vif_data= pd.DataFrame()\n",
    "vif_data[\"feature\"] = x.columns\n",
    "vif_data[\"vif\"] = [variance_inflation_factor(x.values,i) for i in range(len(x.columns))]\n",
    "print(vif_data)"
   ]
  },
  {
   "cell_type": "code",
   "execution_count": 79,
   "id": "e2e47981",
   "metadata": {},
   "outputs": [],
   "source": [
    "data = data.drop(\"NUmber_of_past_hospitalizations\",axis=1)"
   ]
  },
  {
   "cell_type": "code",
   "execution_count": 80,
   "id": "4daf85c5",
   "metadata": {},
   "outputs": [
    {
     "name": "stdout",
     "output_type": "stream",
     "text": [
      "                feature       vif\n",
      "0              children  1.713101\n",
      "1          Claim_Amount  4.152224\n",
      "2    past_consultations  4.670212\n",
      "3  Hospital_expenditure  4.320876\n",
      "4          Anual_Salary  4.279483\n"
     ]
    }
   ],
   "source": [
    "my_col=[]\n",
    "for column in data.columns:\n",
    "    if ((data[column].dtypes!=\"object\") & (column!=\"charges\")):\n",
    "        my_col.append(column)\n",
    "        \n",
    "x = data[my_col]\n",
    "vif_data= pd.DataFrame()\n",
    "vif_data[\"feature\"] = x.columns\n",
    "vif_data[\"vif\"] = [variance_inflation_factor(x.values,i) for i in range(len(x.columns))]\n",
    "print(vif_data)"
   ]
  },
  {
   "cell_type": "code",
   "execution_count": 83,
   "id": "51f540c0",
   "metadata": {},
   "outputs": [],
   "source": [
    "x = data.loc[:,[\"children\",\"Claim_Amount\",\"past_consultations\",\"Hospital_expenditure\",\"Anual_Salary\"]]\n",
    "y = data.iloc[:,-1]"
   ]
  },
  {
   "cell_type": "code",
   "execution_count": 85,
   "id": "c0c177ef",
   "metadata": {},
   "outputs": [],
   "source": [
    "x_train,x_test,y_train,y_test = train_test_split(x,y,train_size = 0.8,random_state=0)"
   ]
  },
  {
   "cell_type": "code",
   "execution_count": 87,
   "id": "24b18703",
   "metadata": {},
   "outputs": [
    {
     "data": {
      "text/html": [
       "<div>\n",
       "<style scoped>\n",
       "    .dataframe tbody tr th:only-of-type {\n",
       "        vertical-align: middle;\n",
       "    }\n",
       "\n",
       "    .dataframe tbody tr th {\n",
       "        vertical-align: top;\n",
       "    }\n",
       "\n",
       "    .dataframe thead th {\n",
       "        text-align: right;\n",
       "    }\n",
       "</style>\n",
       "<table border=\"1\" class=\"dataframe\">\n",
       "  <thead>\n",
       "    <tr style=\"text-align: right;\">\n",
       "      <th></th>\n",
       "      <th>children</th>\n",
       "      <th>Claim_Amount</th>\n",
       "      <th>past_consultations</th>\n",
       "      <th>Hospital_expenditure</th>\n",
       "      <th>Anual_Salary</th>\n",
       "    </tr>\n",
       "  </thead>\n",
       "  <tbody>\n",
       "    <tr>\n",
       "      <th>746</th>\n",
       "      <td>0.0</td>\n",
       "      <td>25238.363470</td>\n",
       "      <td>11.0</td>\n",
       "      <td>2.086869e+06</td>\n",
       "      <td>1.649883e+08</td>\n",
       "    </tr>\n",
       "    <tr>\n",
       "      <th>641</th>\n",
       "      <td>0.0</td>\n",
       "      <td>37222.476360</td>\n",
       "      <td>9.0</td>\n",
       "      <td>6.062378e+06</td>\n",
       "      <td>9.657123e+07</td>\n",
       "    </tr>\n",
       "    <tr>\n",
       "      <th>999</th>\n",
       "      <td>1.0</td>\n",
       "      <td>30825.190070</td>\n",
       "      <td>11.0</td>\n",
       "      <td>5.923489e+06</td>\n",
       "      <td>3.029514e+08</td>\n",
       "    </tr>\n",
       "    <tr>\n",
       "      <th>281</th>\n",
       "      <td>0.0</td>\n",
       "      <td>9560.754493</td>\n",
       "      <td>15.0</td>\n",
       "      <td>3.185350e+06</td>\n",
       "      <td>7.490390e+07</td>\n",
       "    </tr>\n",
       "    <tr>\n",
       "      <th>802</th>\n",
       "      <td>2.0</td>\n",
       "      <td>12992.139950</td>\n",
       "      <td>24.0</td>\n",
       "      <td>4.075903e+06</td>\n",
       "      <td>2.061268e+08</td>\n",
       "    </tr>\n",
       "    <tr>\n",
       "      <th>...</th>\n",
       "      <td>...</td>\n",
       "      <td>...</td>\n",
       "      <td>...</td>\n",
       "      <td>...</td>\n",
       "      <td>...</td>\n",
       "    </tr>\n",
       "    <tr>\n",
       "      <th>279</th>\n",
       "      <td>1.0</td>\n",
       "      <td>20150.675120</td>\n",
       "      <td>9.0</td>\n",
       "      <td>1.747107e+05</td>\n",
       "      <td>6.328892e+07</td>\n",
       "    </tr>\n",
       "    <tr>\n",
       "      <th>768</th>\n",
       "      <td>0.0</td>\n",
       "      <td>9582.708574</td>\n",
       "      <td>11.0</td>\n",
       "      <td>1.046259e+07</td>\n",
       "      <td>1.850292e+08</td>\n",
       "    </tr>\n",
       "    <tr>\n",
       "      <th>841</th>\n",
       "      <td>0.0</td>\n",
       "      <td>31405.793590</td>\n",
       "      <td>12.0</td>\n",
       "      <td>9.380141e+06</td>\n",
       "      <td>2.118739e+08</td>\n",
       "    </tr>\n",
       "    <tr>\n",
       "      <th>561</th>\n",
       "      <td>2.0</td>\n",
       "      <td>9816.604000</td>\n",
       "      <td>12.0</td>\n",
       "      <td>8.134594e+05</td>\n",
       "      <td>1.287152e+08</td>\n",
       "    </tr>\n",
       "    <tr>\n",
       "      <th>688</th>\n",
       "      <td>0.0</td>\n",
       "      <td>55041.113080</td>\n",
       "      <td>16.0</td>\n",
       "      <td>9.347759e+06</td>\n",
       "      <td>1.776668e+08</td>\n",
       "    </tr>\n",
       "  </tbody>\n",
       "</table>\n",
       "<p>824 rows × 5 columns</p>\n",
       "</div>"
      ],
      "text/plain": [
       "     children  Claim_Amount  past_consultations  Hospital_expenditure  \\\n",
       "746       0.0  25238.363470                11.0          2.086869e+06   \n",
       "641       0.0  37222.476360                 9.0          6.062378e+06   \n",
       "999       1.0  30825.190070                11.0          5.923489e+06   \n",
       "281       0.0   9560.754493                15.0          3.185350e+06   \n",
       "802       2.0  12992.139950                24.0          4.075903e+06   \n",
       "..        ...           ...                 ...                   ...   \n",
       "279       1.0  20150.675120                 9.0          1.747107e+05   \n",
       "768       0.0   9582.708574                11.0          1.046259e+07   \n",
       "841       0.0  31405.793590                12.0          9.380141e+06   \n",
       "561       2.0   9816.604000                12.0          8.134594e+05   \n",
       "688       0.0  55041.113080                16.0          9.347759e+06   \n",
       "\n",
       "     Anual_Salary  \n",
       "746  1.649883e+08  \n",
       "641  9.657123e+07  \n",
       "999  3.029514e+08  \n",
       "281  7.490390e+07  \n",
       "802  2.061268e+08  \n",
       "..            ...  \n",
       "279  6.328892e+07  \n",
       "768  1.850292e+08  \n",
       "841  2.118739e+08  \n",
       "561  1.287152e+08  \n",
       "688  1.776668e+08  \n",
       "\n",
       "[824 rows x 5 columns]"
      ]
     },
     "execution_count": 87,
     "metadata": {},
     "output_type": "execute_result"
    }
   ],
   "source": [
    "x_train"
   ]
  },
  {
   "cell_type": "code",
   "execution_count": 89,
   "id": "a9adc99c",
   "metadata": {},
   "outputs": [
    {
     "name": "stdout",
     "output_type": "stream",
     "text": [
      "(824, 5)\n",
      "(206, 5)\n",
      "(824,)\n",
      "(206,)\n"
     ]
    }
   ],
   "source": [
    "print(x_train.shape)\n",
    "print(x_test.shape)\n",
    "print(y_train.shape)\n",
    "print(y_test.shape)"
   ]
  },
  {
   "cell_type": "code",
   "execution_count": 96,
   "id": "10be5575",
   "metadata": {},
   "outputs": [],
   "source": [
    "l_model= LinearRegression()"
   ]
  },
  {
   "cell_type": "code",
   "execution_count": 97,
   "id": "3d34f2c9",
   "metadata": {},
   "outputs": [
    {
     "data": {
      "text/html": [
       "<style>#sk-container-id-1 {color: black;}#sk-container-id-1 pre{padding: 0;}#sk-container-id-1 div.sk-toggleable {background-color: white;}#sk-container-id-1 label.sk-toggleable__label {cursor: pointer;display: block;width: 100%;margin-bottom: 0;padding: 0.3em;box-sizing: border-box;text-align: center;}#sk-container-id-1 label.sk-toggleable__label-arrow:before {content: \"▸\";float: left;margin-right: 0.25em;color: #696969;}#sk-container-id-1 label.sk-toggleable__label-arrow:hover:before {color: black;}#sk-container-id-1 div.sk-estimator:hover label.sk-toggleable__label-arrow:before {color: black;}#sk-container-id-1 div.sk-toggleable__content {max-height: 0;max-width: 0;overflow: hidden;text-align: left;background-color: #f0f8ff;}#sk-container-id-1 div.sk-toggleable__content pre {margin: 0.2em;color: black;border-radius: 0.25em;background-color: #f0f8ff;}#sk-container-id-1 input.sk-toggleable__control:checked~div.sk-toggleable__content {max-height: 200px;max-width: 100%;overflow: auto;}#sk-container-id-1 input.sk-toggleable__control:checked~label.sk-toggleable__label-arrow:before {content: \"▾\";}#sk-container-id-1 div.sk-estimator input.sk-toggleable__control:checked~label.sk-toggleable__label {background-color: #d4ebff;}#sk-container-id-1 div.sk-label input.sk-toggleable__control:checked~label.sk-toggleable__label {background-color: #d4ebff;}#sk-container-id-1 input.sk-hidden--visually {border: 0;clip: rect(1px 1px 1px 1px);clip: rect(1px, 1px, 1px, 1px);height: 1px;margin: -1px;overflow: hidden;padding: 0;position: absolute;width: 1px;}#sk-container-id-1 div.sk-estimator {font-family: monospace;background-color: #f0f8ff;border: 1px dotted black;border-radius: 0.25em;box-sizing: border-box;margin-bottom: 0.5em;}#sk-container-id-1 div.sk-estimator:hover {background-color: #d4ebff;}#sk-container-id-1 div.sk-parallel-item::after {content: \"\";width: 100%;border-bottom: 1px solid gray;flex-grow: 1;}#sk-container-id-1 div.sk-label:hover label.sk-toggleable__label {background-color: #d4ebff;}#sk-container-id-1 div.sk-serial::before {content: \"\";position: absolute;border-left: 1px solid gray;box-sizing: border-box;top: 0;bottom: 0;left: 50%;z-index: 0;}#sk-container-id-1 div.sk-serial {display: flex;flex-direction: column;align-items: center;background-color: white;padding-right: 0.2em;padding-left: 0.2em;position: relative;}#sk-container-id-1 div.sk-item {position: relative;z-index: 1;}#sk-container-id-1 div.sk-parallel {display: flex;align-items: stretch;justify-content: center;background-color: white;position: relative;}#sk-container-id-1 div.sk-item::before, #sk-container-id-1 div.sk-parallel-item::before {content: \"\";position: absolute;border-left: 1px solid gray;box-sizing: border-box;top: 0;bottom: 0;left: 50%;z-index: -1;}#sk-container-id-1 div.sk-parallel-item {display: flex;flex-direction: column;z-index: 1;position: relative;background-color: white;}#sk-container-id-1 div.sk-parallel-item:first-child::after {align-self: flex-end;width: 50%;}#sk-container-id-1 div.sk-parallel-item:last-child::after {align-self: flex-start;width: 50%;}#sk-container-id-1 div.sk-parallel-item:only-child::after {width: 0;}#sk-container-id-1 div.sk-dashed-wrapped {border: 1px dashed gray;margin: 0 0.4em 0.5em 0.4em;box-sizing: border-box;padding-bottom: 0.4em;background-color: white;}#sk-container-id-1 div.sk-label label {font-family: monospace;font-weight: bold;display: inline-block;line-height: 1.2em;}#sk-container-id-1 div.sk-label-container {text-align: center;}#sk-container-id-1 div.sk-container {/* jupyter's `normalize.less` sets `[hidden] { display: none; }` but bootstrap.min.css set `[hidden] { display: none !important; }` so we also need the `!important` here to be able to override the default hidden behavior on the sphinx rendered scikit-learn.org. See: https://github.com/scikit-learn/scikit-learn/issues/21755 */display: inline-block !important;position: relative;}#sk-container-id-1 div.sk-text-repr-fallback {display: none;}</style><div id=\"sk-container-id-1\" class=\"sk-top-container\"><div class=\"sk-text-repr-fallback\"><pre>LinearRegression()</pre><b>In a Jupyter environment, please rerun this cell to show the HTML representation or trust the notebook. <br />On GitHub, the HTML representation is unable to render, please try loading this page with nbviewer.org.</b></div><div class=\"sk-container\" hidden><div class=\"sk-item\"><div class=\"sk-estimator sk-toggleable\"><input class=\"sk-toggleable__control sk-hidden--visually\" id=\"sk-estimator-id-1\" type=\"checkbox\" checked><label for=\"sk-estimator-id-1\" class=\"sk-toggleable__label sk-toggleable__label-arrow\">LinearRegression</label><div class=\"sk-toggleable__content\"><pre>LinearRegression()</pre></div></div></div></div></div>"
      ],
      "text/plain": [
       "LinearRegression()"
      ]
     },
     "execution_count": 97,
     "metadata": {},
     "output_type": "execute_result"
    }
   ],
   "source": [
    "l_model.fit(x_train,y_train)"
   ]
  },
  {
   "cell_type": "code",
   "execution_count": 98,
   "id": "ef4fe089",
   "metadata": {},
   "outputs": [],
   "source": [
    "predictions = l_model.predict(x_test)"
   ]
  },
  {
   "cell_type": "code",
   "execution_count": 99,
   "id": "a4aebb91",
   "metadata": {},
   "outputs": [
    {
     "data": {
      "text/plain": [
       "array([ 7410.79368292, 10525.46032916,  4225.68186834, 11784.67064226,\n",
       "        9710.44769939,  2920.28422479,  7675.02920953,  3974.05235591,\n",
       "        1998.90729711,  1644.33779822,  9355.99422158,  6212.23827285,\n",
       "        7039.69058406,  6913.4106462 ,  7297.0505273 ,  8116.21854337,\n",
       "        5359.21098612, 11610.94654975, 10731.85265305,  4125.98535048,\n",
       "        4978.27582415,  7076.11959566,  5297.22536169, 10517.54532015,\n",
       "        7970.32302539,  9134.27913297,  3195.07752333,  2030.84851755,\n",
       "        7974.5318319 ,  6784.2193549 ,  9063.13892275,  9603.83277347,\n",
       "        7310.54589069,  3127.05229651, 10815.26325584,  6390.86195986,\n",
       "        2959.61224858,  5861.07915274,  8191.7821509 ,  3550.84253838,\n",
       "        2770.66188064,  7533.68996882,  9234.00165879,  4599.21923178,\n",
       "        7080.45812909,  6040.26489712,  9148.59452641,  9621.34374207,\n",
       "        1845.77904492,  4786.94915213, 10787.39907086, 10725.71531506,\n",
       "       10417.07991619,  4695.22528892,  7214.06291723,  4625.56717867,\n",
       "        7070.97071415,  4832.79229407,  4921.66452359,  5390.73490965,\n",
       "       12157.57282625,  5842.57056697,  5743.69269363,  3322.41361322,\n",
       "        5241.38796182,  5197.03180731, 12653.27365811, 12330.6144721 ,\n",
       "       13146.89736512, 10610.8617498 ,  5343.85665224,  5192.63095826,\n",
       "        2798.50864679,  7021.71170606,  5953.25286473,  7750.53776608,\n",
       "        3695.64413673,  9979.30782226,  9140.15977684,  5668.68647814,\n",
       "        7492.02711473,  5387.23905602,  7223.62153604,  4819.64692757,\n",
       "        5274.28601601,  9500.76335613,  8425.37847893,  6088.46443307,\n",
       "       17382.0811556 ,  4410.38971861,  7681.81845598, 11811.01314019,\n",
       "        2847.58654185,  7149.38115334, 12118.90030745,  5218.18164639,\n",
       "        8498.94921925, 18736.06282217,  8374.18288578, 11761.80964658,\n",
       "        6817.38169362,  7419.06962726,  6943.8137855 , 15318.22331686,\n",
       "        4082.35264081,  9967.7891119 ,  4724.73502639,  4982.02483868,\n",
       "        8141.38248822, 15130.76274567,  9988.88380676,  3183.70063997,\n",
       "        9215.91516381,  4274.70522626, 16525.7888001 , 11553.07539794,\n",
       "       12180.44821734, 18729.20706776,  9852.65803542,  5369.12706169,\n",
       "        8091.955761  , 15196.45857582,  5444.20577558,  4079.32115206,\n",
       "       13076.34151516,  7445.10746273, 10830.27714958,  6369.85142805,\n",
       "        4542.9064519 , 11411.14967821,  4709.91345622,  3528.20093323,\n",
       "        3487.87204913, 12257.00243488,  6256.80091317,  5009.68002785,\n",
       "       10089.25495932,  6116.31502398,  8280.43438669,  7031.72556367,\n",
       "        9930.75519415,  3817.30935555,  4048.44285506, 11907.05298703,\n",
       "        6686.91692829,  9807.20047299,  5232.32852199, 10347.06713295,\n",
       "       11601.69659175,  8131.79034823,  5683.7071156 , 16387.3848313 ,\n",
       "        5464.06534313,  4244.00545448,  7264.97043063, 17023.64917215,\n",
       "        3260.27395253,  7385.10498572,  3021.55093669,  7859.13012523,\n",
       "        4654.88456064,  9096.8984787 , 14803.62303482,  6155.00653324,\n",
       "       17144.28142724,  2417.39102398,  4006.11079599,  5390.03227281,\n",
       "        1196.76765806, 10475.72412494, 11314.24814601,  7035.90576039,\n",
       "       10439.81357373,  8530.47197745,  4897.20298841,  4789.69132358,\n",
       "       10411.41435708,  6285.14938641,  8396.08173083,  7137.34612038,\n",
       "        7024.10339038, 12696.94870274, 10249.76227982,  5206.9652089 ,\n",
       "        6026.04223447,  6395.0513615 ,  8192.26491728, 19892.85307795,\n",
       "        6797.67843891,  7628.25112572, 10469.76556041,  2429.62894559,\n",
       "       13001.99976999,  6795.73148931,  7917.71058934,  8232.89888416,\n",
       "       11229.86987183, 11936.16097123,  7674.07424507,  2631.98869906,\n",
       "        8297.23725025,  5781.93758286, 14969.26273667,  4926.60219652,\n",
       "       11617.12721089,  2520.96344643])"
      ]
     },
     "execution_count": 99,
     "metadata": {},
     "output_type": "execute_result"
    }
   ],
   "source": [
    "predictions"
   ]
  },
  {
   "cell_type": "code",
   "execution_count": 113,
   "id": "0b014852",
   "metadata": {},
   "outputs": [],
   "source": [
    "error_pred=pd.DataFrame(columns=['Actual_data','Prediction_data'])"
   ]
  },
  {
   "cell_type": "code",
   "execution_count": 114,
   "id": "b2fda6b5",
   "metadata": {},
   "outputs": [
    {
     "data": {
      "text/html": [
       "<div>\n",
       "<style scoped>\n",
       "    .dataframe tbody tr th:only-of-type {\n",
       "        vertical-align: middle;\n",
       "    }\n",
       "\n",
       "    .dataframe tbody tr th {\n",
       "        vertical-align: top;\n",
       "    }\n",
       "\n",
       "    .dataframe thead th {\n",
       "        text-align: right;\n",
       "    }\n",
       "</style>\n",
       "<table border=\"1\" class=\"dataframe\">\n",
       "  <thead>\n",
       "    <tr style=\"text-align: right;\">\n",
       "      <th></th>\n",
       "      <th>Actual_data</th>\n",
       "      <th>Prediction_data</th>\n",
       "    </tr>\n",
       "  </thead>\n",
       "  <tbody>\n",
       "  </tbody>\n",
       "</table>\n",
       "</div>"
      ],
      "text/plain": [
       "Empty DataFrame\n",
       "Columns: [Actual_data, Prediction_data]\n",
       "Index: []"
      ]
     },
     "execution_count": 114,
     "metadata": {},
     "output_type": "execute_result"
    }
   ],
   "source": [
    "error_pred"
   ]
  },
  {
   "cell_type": "code",
   "execution_count": 117,
   "id": "dcd1cf03",
   "metadata": {},
   "outputs": [],
   "source": [
    "error_pred[\"Actual_data\"]= y_test\n",
    "error_pred[\"Prediction_data\"] = predictions"
   ]
  },
  {
   "cell_type": "code",
   "execution_count": 119,
   "id": "4f06ced3",
   "metadata": {},
   "outputs": [
    {
     "data": {
      "text/html": [
       "<div>\n",
       "<style scoped>\n",
       "    .dataframe tbody tr th:only-of-type {\n",
       "        vertical-align: middle;\n",
       "    }\n",
       "\n",
       "    .dataframe tbody tr th {\n",
       "        vertical-align: top;\n",
       "    }\n",
       "\n",
       "    .dataframe thead th {\n",
       "        text-align: right;\n",
       "    }\n",
       "</style>\n",
       "<table border=\"1\" class=\"dataframe\">\n",
       "  <thead>\n",
       "    <tr style=\"text-align: right;\">\n",
       "      <th></th>\n",
       "      <th>Actual_data</th>\n",
       "      <th>Prediction_data</th>\n",
       "    </tr>\n",
       "  </thead>\n",
       "  <tbody>\n",
       "    <tr>\n",
       "      <th>752</th>\n",
       "      <td>10704.4700</td>\n",
       "      <td>7410.793683</td>\n",
       "    </tr>\n",
       "    <tr>\n",
       "      <th>723</th>\n",
       "      <td>10197.7722</td>\n",
       "      <td>10525.460329</td>\n",
       "    </tr>\n",
       "    <tr>\n",
       "      <th>177</th>\n",
       "      <td>2801.2588</td>\n",
       "      <td>4225.681868</td>\n",
       "    </tr>\n",
       "    <tr>\n",
       "      <th>834</th>\n",
       "      <td>11848.1410</td>\n",
       "      <td>11784.670642</td>\n",
       "    </tr>\n",
       "    <tr>\n",
       "      <th>718</th>\n",
       "      <td>10107.2206</td>\n",
       "      <td>9710.447699</td>\n",
       "    </tr>\n",
       "  </tbody>\n",
       "</table>\n",
       "</div>"
      ],
      "text/plain": [
       "     Actual_data  Prediction_data\n",
       "752   10704.4700      7410.793683\n",
       "723   10197.7722     10525.460329\n",
       "177    2801.2588      4225.681868\n",
       "834   11848.1410     11784.670642\n",
       "718   10107.2206      9710.447699"
      ]
     },
     "execution_count": 119,
     "metadata": {},
     "output_type": "execute_result"
    }
   ],
   "source": [
    "error_pred.head()"
   ]
  },
  {
   "cell_type": "code",
   "execution_count": 120,
   "id": "71990c79",
   "metadata": {},
   "outputs": [],
   "source": [
    "from sklearn.metrics import *"
   ]
  },
  {
   "cell_type": "code",
   "execution_count": 121,
   "id": "1538e3cf",
   "metadata": {},
   "outputs": [
    {
     "data": {
      "text/plain": [
       "array([ 8636.77102076,  5889.89113882, 15510.15506332,  4534.92941325,\n",
       "       11476.8923922 ,  4790.24544065,  2226.43019619, 14580.40311238,\n",
       "       18281.06573485,  5779.13917531,  9971.98821711,  8280.80960392,\n",
       "       12273.87781543, 17551.84469937,  2094.55275057,  5142.38710764,\n",
       "       12387.39416343,  6423.03514025,  9022.97286233,  5124.91472943,\n",
       "       15186.68881153,  3390.02964113,  7783.52737648, 12373.40805558,\n",
       "        7044.87450697, 12537.01546368,  1984.92004357,  5292.93806285,\n",
       "        5677.81955856,  6669.72484715, 18550.0882346 , 12171.85956404,\n",
       "        3015.25403532,  5723.10604427,  1893.9007627 ,  4878.70389425,\n",
       "       10253.08347323,  6787.5554486 ,  4519.0899566 ,  5930.20374602,\n",
       "        8546.66285511,  3020.70144386,  7596.74648984,  4651.49079173,\n",
       "        8319.69579178, 11814.77524627, 18159.61248909,  5380.48245879,\n",
       "       10795.88105085,  9205.23720251, 12884.6309035 ,  2313.04971677,\n",
       "        2290.56603928,  3408.29277405,  3780.09878991,  2099.40617414,\n",
       "        7774.89235541, 16572.81470147,  4143.23459351,  6053.05097277,\n",
       "        5569.71011742,  8716.7335088 ,  8234.83637788,  5681.97410613,\n",
       "        5699.5737618 ,  4770.82159172, 11927.8112269 ,  5397.17031697,\n",
       "       17534.82605452,  8812.51412646,  5373.24830542,  5012.17478076,\n",
       "        3882.40152772,  7181.36016963,  3111.06679719,  4718.52366902,\n",
       "        4320.35928326,  6686.92144072,  3604.4872123 ,  5772.45098388,\n",
       "        6659.13462955,  5768.47641943,  3883.92749388,  9645.90370009,\n",
       "        5267.24023687,  4945.21051644, 17026.6855637 , 16526.06617663,\n",
       "        2549.29212837, 10687.8490546 ,  5905.70573503,  4655.0980493 ,\n",
       "       16559.24025184, 10280.21731622, 13817.64173933,  5488.24740381,\n",
       "        7257.07725396, 15815.2149203 ,  5605.1520375 ,  5752.24381465,\n",
       "        6264.26956147,  1784.61509641,  7312.62305892,  7454.26112859,\n",
       "       15990.14890667,  9479.51730559,  1940.19032561,  7480.10145322,\n",
       "        8229.65393953,  4619.47307444,  1210.30190854,  3765.4290933 ,\n",
       "        4011.57193097, 10823.36248768,  8350.49042153, 10372.49400955,\n",
       "        6075.69435002, 11225.93375185,  6972.84994696,  2358.85164631,\n",
       "       11746.496633  , 16973.16903906, 13331.38636075,  7724.51400547,\n",
       "        5210.12298396,  6201.36983524, 12884.14418986,  5477.55458598,\n",
       "        6369.02203663,  6869.70966746,  2054.7573287 ,   851.39827063,\n",
       "        4611.2657812 ,  5345.89780969,  7730.67044975,  2449.39475386,\n",
       "        5655.74335425,  3360.12854784,  4649.46106918, 14611.88631903,\n",
       "        4572.16232047, 18908.91300884,  9362.86995139,  7271.16703404,\n",
       "        5939.95352813,  2145.41414442, 10328.46378816,  5568.83172656,\n",
       "       11056.14491037,  3710.71891448,  7408.67805465,  5798.1333416 ,\n",
       "        5506.01257879, 17001.25666053,  4952.93113502,  5354.39252104,\n",
       "        3963.00678468,  5361.63263751,  4508.81602257,  3966.65066255,\n",
       "        5268.11365097,  3946.41523177,  8616.42122388,  3368.74981195,\n",
       "        9696.60166388,  8330.64525956,  6224.8763128 , 15826.14357427,\n",
       "       12820.08943874,  7865.81527451,  3847.76924826, 12221.46512322,\n",
       "       10758.13960629,  5730.41855538,  7779.92107075,  4933.40012849,\n",
       "        2725.22831534, 12967.95177013,  5362.75941936,  6082.41273878,\n",
       "        8705.27527545, 10852.50661667,  7666.47110842,  4060.09510696,\n",
       "        5669.24584049,  5164.64131804,  1738.45994489,  5037.27048826,\n",
       "       12248.80881772,  5085.40508565,  3678.02056206, 19515.50816511,\n",
       "       10327.37207514,  2253.26765118,  2636.01076116,  9348.61730109,\n",
       "        4667.8925088 , 20380.94203259,  3032.96459415,  3732.31825103,\n",
       "        4520.27189359,  9778.31015505,  6684.55791738, 15529.48018787,\n",
       "        9307.49991056,  5680.84538239,  6366.48194701,  2839.6844302 ,\n",
       "        8464.22583539,  8304.09491654,  5768.75822157,  3714.28325119,\n",
       "        5032.83022604, 10422.25552682,  5214.21363649,  3669.71455087,\n",
       "        3589.01500213, 10365.84353909,  6407.55948538, 11560.92428155,\n",
       "        7079.21791977,  9801.3968532 ,  1776.33853607, 10876.5838798 ,\n",
       "        3686.8303122 , 10318.22568999, 11911.14370657,  2612.42721977,\n",
       "       11090.50909497,  9897.41175268,  7114.67230983,  8771.36827334,\n",
       "        4974.70727492,  9480.20605987, 19769.43173321, 15915.88464658,\n",
       "        3981.02477496,  5472.13089015,  5182.51590747,  6030.01814527,\n",
       "        5451.74530707,  6736.28784838,  7143.92094475,  6146.95574804,\n",
       "        9717.14781621, 14858.29476298,  6030.78824746,  7548.95181421,\n",
       "        9630.57686765,  1858.94071277,  9393.106491  ,  8462.873242  ,\n",
       "       13964.05401831,  3431.98173351,  3591.85058262,  3835.53579727,\n",
       "       12799.74017394,  2545.47318119,  5000.2850621 ,  3384.75389766,\n",
       "        4022.9017903 ,  8024.53471528,  8776.8652006 ,  8919.58382389,\n",
       "        2326.97346346,  6278.44549406,  3256.75574425,  2057.41650954,\n",
       "       18996.75546986,  8561.59958956,  5791.68239997,  4300.38748494,\n",
       "        5609.36287607, 11167.3931242 , 16065.87744407,  9703.96039071,\n",
       "       15799.55554069,  4291.93969002,  3436.83642296, 11674.23917248,\n",
       "        6233.86490722,  3014.29023144,  8204.22438557, 18599.23224876,\n",
       "        1870.71874369,  5493.7398084 ,  3889.13302182, 11226.70864595,\n",
       "        4388.83887166,  8156.51166474,  7326.55606822,  6172.42209334,\n",
       "        8889.07344836,  8166.58578489,  5622.72045326,  3170.34256669,\n",
       "        4809.54915432,  4405.2198513 ,  6567.8499765 ,  3020.70159851,\n",
       "        5660.89903682, 18796.34467355,  3554.75989909,  4263.00941844,\n",
       "        5556.29821219,  7135.46661372,  8197.08717082,  4229.27757795,\n",
       "        6848.32245982,  3917.91461469,  7725.05062353,  5719.25886243,\n",
       "        8161.51299333,  4317.72415299, 16185.32250553,  5230.93267822,\n",
       "        7225.23364379,  7110.98676713,  6494.13121646,  5007.51042009,\n",
       "        7564.48260296,  7318.84161494,  6820.92189564,  9236.64096645,\n",
       "        7323.21707672,  5856.6380334 ,  2662.07544699,  4895.85664327,\n",
       "        7024.11036181, 18561.00867001, 10798.92721453,  6011.44984943,\n",
       "        5119.89585532, 10110.22884341,  7103.94846628,  5057.42103773,\n",
       "        5934.72588064,  9106.40027607,  4088.22778318,  5577.90314697,\n",
       "        5270.26161034, 12119.34225832,  8208.48702523,  4535.48790185,\n",
       "        8627.09368793, 10218.02156449,  3755.19921687,  3998.32486506,\n",
       "        3709.69741278, 10761.37002008,  5012.10969746,  6539.78477523,\n",
       "        4432.10666725,  5471.22607611, 16413.41995282,  7984.24554082,\n",
       "        7063.46368441,  6585.35145585,  5429.16208004, 10822.56686673,\n",
       "        2223.45937329, 10183.52393941,  4202.71490216,  6556.1029348 ,\n",
       "        5654.24287133,  4777.38192064,  5584.7932106 ,  7261.06113627,\n",
       "       12353.90441726,  9135.73056085, 10096.01322736, 13328.12931203,\n",
       "        9575.51055989,  4734.67523339, 17735.21354873,  4570.8237992 ,\n",
       "       10149.63983077,  3259.86077022,  5793.12081868, 13284.85109012,\n",
       "       15428.78754868,  7285.38100937,  2194.37462418,  9347.55665431,\n",
       "        5400.43211106,  4664.96186469,  1836.61783528,  7768.25621885,\n",
       "        8290.74937642,  4676.19898192,  3377.16723476,  5053.88729813,\n",
       "        9505.43633252, 10230.49544229,  6055.77217653,  6038.67751259,\n",
       "        3819.03263214,  9528.75984652,  9755.18747869, 10702.0842285 ,\n",
       "        7118.19894531, 11107.90131615,  7158.71848806,  4571.22422372,\n",
       "        7887.94916086,  7361.31491058,  4250.06622626, 14707.58691622,\n",
       "       10138.45938881,  6241.16891546, 10117.69341267,  4974.91270652,\n",
       "        5900.12733193,  7983.7792512 ,  5389.45597543,  5309.74582053,\n",
       "       10153.64960224,  8223.64755437,  6407.95587677, 12149.16843283,\n",
       "       12041.28395251, 13191.72273575,  4842.33426326,  9277.01444514,\n",
       "        9980.95010837,  7544.33096911,  5506.10823109,  7000.14793213,\n",
       "        2525.0395073 , 18903.02235114, 11868.80346328,  5231.55928638,\n",
       "       12294.41175517,  8657.21555335, 10698.52633752,  6005.56736185,\n",
       "        8532.24209731,  8857.88626969, 10065.68710584,  4707.52746213,\n",
       "        7293.85650974,  8066.85672326,  3006.95258709,  6453.99869423,\n",
       "        7416.92155633,  2323.38038722,  9755.15244067,  3476.25362976,\n",
       "       11715.02175006,  9985.96733822, 17894.0332157 ,  8467.98637714,\n",
       "        8416.2755943 ,  6882.62345829,  5867.08329141, 12110.34820152,\n",
       "       12501.67103129,  6301.36975065, 10512.1097422 ,  4480.15580924,\n",
       "        4269.26092173,  7884.40830169,  6669.70030498,  6009.26353436,\n",
       "        2042.5695541 ,  5770.02148084, 18043.9455888 ,  2279.97273116,\n",
       "        9274.46037912,  5621.43578341,  5081.48179054, 16656.23001686,\n",
       "        5870.4856444 , 19314.1278207 , 10585.43476966,  9811.66498331,\n",
       "       10099.47831689,  5357.80496586,  5150.42073896,  7826.23623914,\n",
       "        5196.42100218, 10340.16099571,  4717.36452971,  2833.99284436,\n",
       "        2657.19376088,  9236.69158025, 15674.62229219,  8068.87007186,\n",
       "        7964.04830684,  4657.26984173,  7942.76155279,  4674.88237614,\n",
       "       11319.41247294,  6335.61635066,  9209.83195091,  5387.49152819,\n",
       "        7294.98972733,  5124.77136233, 10143.68352519, 13036.05937648,\n",
       "        6154.27116867,  3559.96056268,  9956.83608142, 18007.58018662,\n",
       "       12072.20841223, 10232.01319436, 12563.04537507, 10682.74012033,\n",
       "        7398.42192683,  5528.67194947,  4715.75797331,  5266.2312084 ,\n",
       "        5265.18595278,  7196.05391318,  5578.15949688,  2673.04903838,\n",
       "       14947.84398564,  1729.10540595,  6510.87117274,  5673.51099435,\n",
       "        3541.52458274,  7965.16760586, 10898.80933585, 18001.21955954,\n",
       "        6456.00774583,  4271.67193044,  4992.30520009,  4075.24600444,\n",
       "        8480.34442601, 14303.87724394, 11902.21030644,  9711.82856603,\n",
       "        2229.59642658,  3938.97599485,  7163.45189908, 12030.41289799,\n",
       "        6409.78509481, 10925.75151229,  2790.94319714, 19391.86149585,\n",
       "       10590.3515649 ,  5338.28534494,  7761.30716945,  2685.0879268 ,\n",
       "        3052.99994578,  5624.82536379,  4335.33475477,  2236.61318298,\n",
       "       15824.35203873,  2408.74951092,  5576.08989205, 10458.54389353,\n",
       "        4675.70689844,  9675.66353469,  4490.45753766,  5091.56875352,\n",
       "        3851.19664219,  5501.15675331,  6570.7276621 ,  7112.17128242,\n",
       "       10348.52195304,  9409.41174115,  9287.87535511,  9755.86856803,\n",
       "        4390.64349249,  4975.43784177, 11734.04547437,  9261.58623897,\n",
       "        8429.93100082,  9189.51993446, 10284.25444941,  5612.1698671 ,\n",
       "        7923.97135784,  2241.62813041,  2854.84104493,  8217.06158655,\n",
       "       12822.75477082, 12308.92196435, 12776.07498827, 10367.14048943,\n",
       "       19593.98434113,  9679.62199683,  6950.23502149, 13593.12427042,\n",
       "       10278.19813617,  4385.41312141, 10291.74104515,  1153.81384452,\n",
       "        5473.45923166,  7991.21227266,  5932.80660988,  7758.50976478,\n",
       "        2097.43517932,  7007.97266235,  3621.72803688,  4584.038052  ,\n",
       "       13886.3184991 ,  2703.75582685,  7097.48002521,  8017.81339382,\n",
       "        4985.04884712, 10113.83349053,  8978.31558957, 10843.20932966,\n",
       "       10268.9387435 ,  7503.29816404,  5398.01914465,  3605.4278119 ,\n",
       "        4730.59614494,  3477.36915905, 20854.33306471,  5077.44661913,\n",
       "        4839.32350197,  9452.96114233,  7723.58373331,  7584.72258433,\n",
       "        5390.65064057,  4421.12108687,  2912.18341718,  2525.11297956,\n",
       "        4200.89350372,  2640.17244418,  6405.3415499 ,  8964.83362197,\n",
       "        7807.59522193,  8153.62870842,  5816.11882999,  3948.23009779,\n",
       "       11197.22528373,  4755.50333632, 10862.25515557,  8057.46984139,\n",
       "        6716.8680432 , 11189.56629867,  3276.66204007,  5078.54503203,\n",
       "        7315.14405081,  9827.11927766,  8237.69870443,  5441.71380717,\n",
       "        6802.79061805,  6816.91399946,  4637.93837735,  5017.91390832,\n",
       "        4127.48856227,  5376.55003446, 12818.1436443 ,  9546.175256  ,\n",
       "        3727.19599802,  6384.62723556,  5588.93456655, 15832.38823687,\n",
       "        6984.25811053,  3979.07019044,  4213.36242828, 13949.27815187,\n",
       "       17101.13672941,  6202.83767143,  9822.94947504, 12628.99521727,\n",
       "        5867.11509143,  3169.98916667,  3227.40240131,  6154.07225773,\n",
       "        7466.25026871,  5138.67010923, 12952.99588427,  3409.01748241,\n",
       "        2862.1976154 ,  9115.24237671,  3454.14731057, 18805.30415662,\n",
       "        5792.42466871,  3189.10592783, 12632.52649994,  6006.32702184,\n",
       "        8335.46260448,  4870.7898049 ,  2753.5585107 , 10337.05582046,\n",
       "        6301.23396828,  4184.02946772, 10421.61885089,  7459.11833316,\n",
       "        6028.39665058,  6733.42025474,  2790.30109711,  6775.09054269,\n",
       "        4297.65041082, 13336.13588489,  6736.048341  ,  2883.53262133,\n",
       "        5403.72780977,  3199.73425543,  4963.91281737,  7555.766771  ,\n",
       "        6721.99760289,  5833.42033206,  3176.32427946, 12302.65589778,\n",
       "        8513.26556535,  7358.97205901,  8523.13802836,  9872.75793173,\n",
       "        6180.77179097,  7318.79333436,  5389.54933417,  2528.81945438,\n",
       "       19431.72522731, 17113.75761589,  1824.38359419,  8193.11733338,\n",
       "        4877.88904553,  8474.74557308, 10045.16509297,  4169.55279922,\n",
       "       12655.63454399,  7344.69629125,  9014.85883795,  3032.36042335,\n",
       "        6514.14025141,  6162.62704568,  8786.44686045,  5407.8101803 ,\n",
       "        9838.9487578 ,  1955.08889973, 16895.68247283,  4532.21504818,\n",
       "       10788.31417471,  4891.57996966,  4266.16800452,  2343.4025475 ,\n",
       "       15196.82949981,  7438.04463805, 13845.53116198,  8909.69536013,\n",
       "        9437.81883781,  4180.77515855, 10879.5537922 ,  6245.97590207,\n",
       "        4264.87254562,  5422.18429761,  9873.99294331,  4662.57993154,\n",
       "       10944.41774239,  3165.52460254,  3165.31353613, 11808.35873548,\n",
       "        5550.83941439,  5093.23509846, 11120.82334668, 17900.45713099,\n",
       "        4837.9069142 ,  1944.04487433,  5726.97907882,  4159.64417079,\n",
       "        3041.18304222,  6664.22835014,  8164.82756845,  8274.52025593,\n",
       "        5101.82598647, 10279.66762973,  5010.61952997, 13996.59046221,\n",
       "       16184.40059929,  2417.55651982, 10633.8729093 ,  5254.14112346,\n",
       "        3545.00619997,  9514.01711454,  7574.66040055,  7510.8880063 ,\n",
       "        7594.68700849,  3651.29450261,  5734.36071823,  9394.27105852,\n",
       "        7908.18271371,  8851.0782751 , 10034.8363556 ,  8395.7955024 ,\n",
       "        4981.89672553, 12731.89409474,  6673.68532751,  5279.01029917,\n",
       "       12403.32279203,  2993.41577757,  8307.48773789, 11425.46641756,\n",
       "       16091.02494435,  5214.3576167 , 15986.5880329 ,  1702.21103086,\n",
       "       10915.11103275,  5463.04829948,  6964.03619504, 12197.33796933,\n",
       "       10092.97661145, 10643.04312004, 14309.85631387,  3931.38168115,\n",
       "       13619.13861967, 12055.41304352,  4731.3011411 , 13570.65677642,\n",
       "        4649.65954352,  7157.04361056,  9127.52158062, 18399.08684426,\n",
       "        4165.29880532,  2196.09385315,  9267.67673726,  7421.4864479 ,\n",
       "        6257.92708531,  6359.98860383,  3727.96515488,  5496.79658253,\n",
       "        4841.04311226,  1771.26440017,  7913.8441316 ,  4107.57814309,\n",
       "        9849.2727066 , 11321.91091625,  7374.67841785, 10210.42542273])"
      ]
     },
     "execution_count": 121,
     "metadata": {},
     "output_type": "execute_result"
    }
   ],
   "source": [
    "train_pred = l_model.predict(x_train)\n",
    "train_pred"
   ]
  },
  {
   "cell_type": "code",
   "execution_count": 123,
   "id": "8b3ad922",
   "metadata": {},
   "outputs": [
    {
     "data": {
      "text/plain": [
       "0.843600340963812"
      ]
     },
     "execution_count": 123,
     "metadata": {},
     "output_type": "execute_result"
    }
   ],
   "source": [
    "r2_on_test = r2_score(y_test,predictions)\n",
    "r2_on_test"
   ]
  },
  {
   "cell_type": "code",
   "execution_count": null,
   "id": "fc654dda",
   "metadata": {},
   "outputs": [],
   "source": []
  },
  {
   "cell_type": "code",
   "execution_count": null,
   "id": "bb07b995",
   "metadata": {},
   "outputs": [],
   "source": []
  },
  {
   "cell_type": "code",
   "execution_count": null,
   "id": "c4f8768c",
   "metadata": {},
   "outputs": [],
   "source": []
  },
  {
   "cell_type": "code",
   "execution_count": null,
   "id": "64fa3d28",
   "metadata": {},
   "outputs": [],
   "source": []
  },
  {
   "cell_type": "code",
   "execution_count": null,
   "id": "99c133bf",
   "metadata": {},
   "outputs": [],
   "source": []
  },
  {
   "cell_type": "code",
   "execution_count": null,
   "id": "ab1b9cab",
   "metadata": {},
   "outputs": [],
   "source": []
  },
  {
   "cell_type": "code",
   "execution_count": null,
   "id": "dc674af5",
   "metadata": {},
   "outputs": [],
   "source": []
  },
  {
   "cell_type": "code",
   "execution_count": null,
   "id": "1a446b50",
   "metadata": {},
   "outputs": [],
   "source": []
  }
 ],
 "metadata": {
  "kernelspec": {
   "display_name": "Python 3 (ipykernel)",
   "language": "python",
   "name": "python3"
  },
  "language_info": {
   "codemirror_mode": {
    "name": "ipython",
    "version": 3
   },
   "file_extension": ".py",
   "mimetype": "text/x-python",
   "name": "python",
   "nbconvert_exporter": "python",
   "pygments_lexer": "ipython3",
   "version": "3.11.5"
  }
 },
 "nbformat": 4,
 "nbformat_minor": 5
}
